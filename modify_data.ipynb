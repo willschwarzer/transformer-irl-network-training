{
 "cells": [
  {
   "cell_type": "code",
   "execution_count": 1,
   "id": "c18f0959-e2a2-459f-be4d-8291c19dc7dd",
   "metadata": {},
   "outputs": [],
   "source": [
    "import numpy as np\n",
    "from tqdm import tqdm"
   ]
  },
  {
   "cell_type": "code",
   "execution_count": 2,
   "id": "12318cd0-8325-4246-9f5d-195dc3f99878",
   "metadata": {},
   "outputs": [],
   "source": [
    "# x = np.load(\"examples_new_460000.npy\", allow_pickle=True)\n",
    "x = np.load(\"grid_regression_1010000.npy\", allow_pickle=True)"
   ]
  },
  {
   "cell_type": "code",
   "execution_count": 3,
   "id": "aa40446f-d0cf-4d78-a259-79046d954ddf",
   "metadata": {},
   "outputs": [
    {
     "name": "stderr",
     "output_type": "stream",
     "text": [
      "1010000it [02:05, 8041.66it/s]\n"
     ]
    }
   ],
   "source": [
    "NUM_STATES = 1010000\n",
    "states = np.zeros([NUM_STATES, 150, 25], dtype=int)\n",
    "rewards = np.zeros([NUM_STATES, 150], dtype=float)\n",
    "for idx, example in tqdm(enumerate(x)):\n",
    "    data = example[\"data\"]\n",
    "    traj_states = np.zeros([150, 25], dtype=int)\n",
    "    traj_rewards = np.zeros([150], dtype=float)\n",
    "    for t in range(len(data)):\n",
    "        traj_states[t] = data[t][0]\n",
    "        traj_rewards[t] = data[t][1]\n",
    "    states[idx] = traj_states\n",
    "    rewards[idx] = traj_rewards"
   ]
  },
  {
   "cell_type": "code",
   "execution_count": 4,
   "id": "3b697f54-ee4e-48b2-af21-8af7178e1108",
   "metadata": {
    "tags": []
   },
   "outputs": [
    {
     "data": {
      "text/plain": [
       "array([[2, 3, 3, ..., 3, 1, 0],\n",
       "       [3, 3, 3, ..., 1, 0, 3],\n",
       "       [3, 3, 0, ..., 3, 3, 3],\n",
       "       ...,\n",
       "       [3, 3, 3, ..., 3, 3, 3],\n",
       "       [3, 3, 3, ..., 1, 0, 3],\n",
       "       [1, 3, 3, ..., 3, 1, 0]])"
      ]
     },
     "execution_count": 4,
     "metadata": {},
     "output_type": "execute_result"
    }
   ],
   "source": [
    "states[0]"
   ]
  },
  {
   "cell_type": "code",
   "execution_count": 8,
   "id": "56057a9c-3250-42ed-ae84-5bdd4724af0b",
   "metadata": {
    "collapsed": true,
    "jupyter": {
     "outputs_hidden": true
    },
    "tags": []
   },
   "outputs": [
    {
     "data": {
      "text/plain": [
       "array([ 3.11522652,  2.85854911, 15.83284649, 15.82101331, 15.07947697,\n",
       "       13.59303336,  1.83364773, 13.92865464, 14.44652738,  9.73233309,\n",
       "       14.46256275, 13.60938641, 13.47517707,  0.09787198,  0.53635127,\n",
       "        0.09787198,  0.53635127,  1.25498453,  2.50037042, 15.72869366,\n",
       "       15.48005089, 14.55800751,  1.95608383, 13.65084849,  8.85511872,\n",
       "        0.57064193,  9.01197338,  1.32283054, 14.70248346, 13.95029485,\n",
       "        8.66323807,  0.52248794,  1.06310389,  1.23425349, 13.63933106,\n",
       "        0.26202597,  0.21387198,  0.46047062,  0.91250952, 13.68909757,\n",
       "        1.15123534,  9.93647852,  2.40534329,  3.04605177, 15.14237149,\n",
       "       13.84649971,  8.54080198,  0.62708636, 12.73959927,  0.26932529,\n",
       "        1.12671974,  2.16462123, 10.08094049,  2.82296362, 14.62949813,\n",
       "        9.71981249,  9.86366704, 14.37690898, 14.07781034,  1.48784775,\n",
       "       14.30862942,  1.54911576,  2.45392888, 15.46103425, 14.65136218,\n",
       "       14.55406308, 10.45462301,  2.22986421,  1.50084785,  2.37822404,\n",
       "       10.9718763 , 14.83171335, 13.8889669 ,  1.5578997 ,  2.10667819,\n",
       "       13.60925851,  0.89165058,  0.8623114 ,  1.48784775, 14.35299885,\n",
       "        2.73263216, 15.31468996,  9.98126558,  2.43510009, 14.83479455,\n",
       "        9.70532776,  1.79162614, 14.77058722, 15.66623075, 15.61018995,\n",
       "       14.0665526 ,  9.29125016,  2.06348967, 10.14877251,  2.1321989 ,\n",
       "        2.1378857 , 13.64324547,  0.81576994,  0.83736419,  1.33346882,\n",
       "        2.13293422, 14.97208511, 13.58485683,  1.86792441, 13.82241572,\n",
       "        1.71343156, 10.13797835,  9.58190054,  9.49710805,  1.667018  ,\n",
       "       14.27929219,  9.49946987,  1.38001029, 13.80040384, 13.84742286,\n",
       "        9.06581417,  9.35543952,  2.3698857 , 14.30454116,  1.40335896,\n",
       "        1.24738151,  1.22652256,  1.73327946, 13.88519438,  1.61201029,\n",
       "        2.12239587, 14.59750741, 13.92865464, 14.03126887,  1.20521802,\n",
       "       14.50402482,  2.19072138, 14.25798765,  9.9526757 ,  2.0704713 ,\n",
       "       14.38681195,  2.40211824, 14.86947088, 14.31078942,  3.2109131 ,\n",
       "       14.63092086,  2.64054035, 14.47874195,  2.05793078, 14.59244006,\n",
       "       14.0811493 , 13.45005601,  1.32399746,  0.59763327,  1.41096199])"
      ]
     },
     "execution_count": 8,
     "metadata": {},
     "output_type": "execute_result"
    }
   ],
   "source": [
    "rewards[1]"
   ]
  },
  {
   "cell_type": "code",
   "execution_count": 4,
   "id": "abe70fee-0949-4598-80d8-7f7d924211fe",
   "metadata": {},
   "outputs": [],
   "source": [
    "states_copy = np.copy(states)"
   ]
  },
  {
   "cell_type": "code",
   "execution_count": 6,
   "id": "8c061e7d-4491-4cf3-b319-6c78c9dfc8b4",
   "metadata": {},
   "outputs": [
    {
     "data": {
      "text/plain": [
       "array([1, 3, 0, 2])"
      ]
     },
     "execution_count": 6,
     "metadata": {},
     "output_type": "execute_result"
    }
   ],
   "source": [
    "perm = np.arange(4)\n",
    "np.random.shuffle(perm)\n",
    "perm"
   ]
  },
  {
   "cell_type": "code",
   "execution_count": 7,
   "id": "09694a8e-5368-4377-9808-e49f4bd447aa",
   "metadata": {},
   "outputs": [
    {
     "data": {
      "text/plain": [
       "array([[3, 3, 3, ..., 3, 3, 2],\n",
       "       [1, 3, 3, ..., 3, 1, 3],\n",
       "       [1, 1, 3, ..., 3, 3, 1],\n",
       "       ...,\n",
       "       [3, 3, 3, ..., 3, 3, 1],\n",
       "       [3, 3, 3, ..., 3, 3, 3],\n",
       "       [3, 3, 3, ..., 3, 3, 3]])"
      ]
     },
     "execution_count": 7,
     "metadata": {},
     "output_type": "execute_result"
    }
   ],
   "source": [
    "states_copy[1]"
   ]
  },
  {
   "cell_type": "code",
   "execution_count": 8,
   "id": "d360c49a-ccab-46b6-8c10-e0d658cd0772",
   "metadata": {},
   "outputs": [
    {
     "data": {
      "text/plain": [
       "array([[2, 2, 2, ..., 2, 2, 0],\n",
       "       [3, 2, 2, ..., 2, 3, 2],\n",
       "       [3, 3, 2, ..., 2, 2, 3],\n",
       "       ...,\n",
       "       [2, 2, 2, ..., 2, 2, 3],\n",
       "       [2, 2, 2, ..., 2, 2, 2],\n",
       "       [2, 2, 2, ..., 2, 2, 2]])"
      ]
     },
     "execution_count": 8,
     "metadata": {},
     "output_type": "execute_result"
    }
   ],
   "source": [
    "perm[states_copy[1]]"
   ]
  },
  {
   "cell_type": "code",
   "execution_count": 5,
   "id": "73a7cb9f-5345-4942-a58c-b33586979a63",
   "metadata": {},
   "outputs": [],
   "source": [
    "# np.save(\"states_460000.npy\", states)"
   ]
  },
  {
   "cell_type": "code",
   "execution_count": 6,
   "id": "b4ab8568-b822-4c0f-a54e-b8071feddd1c",
   "metadata": {},
   "outputs": [],
   "source": [
    "# np.save(\"rewards_460000.npy\", rewards)"
   ]
  },
  {
   "cell_type": "code",
   "execution_count": 10,
   "id": "8dda609d-ad19-4e75-b562-68b3ef305001",
   "metadata": {},
   "outputs": [],
   "source": [
    "np.save(\"states_100000.npy\", states)\n",
    "np.save(\"rewards_100000.npy\", rewards)"
   ]
  },
  {
   "cell_type": "code",
   "execution_count": 5,
   "id": "1ee2f328-d2ef-4e9f-87ef-27a7037d83a3",
   "metadata": {},
   "outputs": [],
   "source": [
    "np.save(f\"states_{NUM_STATES}.npy\", states)\n",
    "np.save(f\"rewards_{NUM_STATES}.npy\", rewards)"
   ]
  },
  {
   "cell_type": "code",
   "execution_count": 7,
   "id": "1573bcf3-3653-4e4b-a850-c03d1c61cc63",
   "metadata": {},
   "outputs": [],
   "source": [
    "np.save(\"states_4600.npy\", states[:4600])"
   ]
  },
  {
   "cell_type": "code",
   "execution_count": 8,
   "id": "8ab8d540-6623-4383-99c7-fcf4f38c3d01",
   "metadata": {},
   "outputs": [],
   "source": [
    "np.save(\"rewards_4600.npy\", rewards[:4600])"
   ]
  },
  {
   "cell_type": "code",
   "execution_count": 9,
   "id": "40f2869c-fd5f-454b-a619-f987bcbe17f4",
   "metadata": {},
   "outputs": [],
   "source": [
    "np.save(\"states_46000.npy\", states[:46000])"
   ]
  },
  {
   "cell_type": "code",
   "execution_count": 10,
   "id": "76473033-e485-4c6f-9143-eb4591446d34",
   "metadata": {},
   "outputs": [],
   "source": [
    "np.save(\"rewards_46000.npy\", rewards[:46000])"
   ]
  },
  {
   "cell_type": "code",
   "execution_count": 4,
   "id": "11142760-1392-4d68-a20a-110a99c7f674",
   "metadata": {},
   "outputs": [],
   "source": [
    "np.save(\"states_60000.npy\", states[:60000])"
   ]
  },
  {
   "cell_type": "code",
   "execution_count": 5,
   "id": "19b99709-8b93-4529-b0b9-fcd858b7279c",
   "metadata": {},
   "outputs": [],
   "source": [
    "np.save(\"rewards_60000.npy\", rewards[:60000])"
   ]
  },
  {
   "cell_type": "code",
   "execution_count": null,
   "id": "d1629a7f-8ed9-445c-bdb1-4e8b6c433fdf",
   "metadata": {},
   "outputs": [],
   "source": []
  },
  {
   "cell_type": "code",
   "execution_count": 12,
   "id": "50493911-43ed-4d1b-8bb5-b9cd89a7116e",
   "metadata": {},
   "outputs": [
    {
     "data": {
      "text/plain": [
       "(460000, 150, 25)"
      ]
     },
     "execution_count": 12,
     "metadata": {},
     "output_type": "execute_result"
    }
   ],
   "source": [
    "states.shape"
   ]
  },
  {
   "cell_type": "code",
   "execution_count": 15,
   "id": "a2bc53a7-47fd-4b2f-b008-60f8d38ee7d2",
   "metadata": {},
   "outputs": [
    {
     "data": {
      "text/plain": [
       "array([[3, 3, 3, ..., 1, 3, 3],\n",
       "       [3, 2, 1, ..., 3, 1, 3],\n",
       "       [3, 1, 1, ..., 1, 3, 3],\n",
       "       ...,\n",
       "       [3, 3, 3, ..., 3, 3, 3],\n",
       "       [3, 2, 3, ..., 3, 3, 3],\n",
       "       [3, 3, 3, ..., 3, 3, 3]])"
      ]
     },
     "execution_count": 15,
     "metadata": {},
     "output_type": "execute_result"
    }
   ],
   "source": [
    "states[:, :, 12]"
   ]
  }
 ],
 "metadata": {
  "kernelspec": {
   "display_name": "Python 3 (ipykernel)",
   "language": "python",
   "name": "python3"
  },
  "language_info": {
   "codemirror_mode": {
    "name": "ipython",
    "version": 3
   },
   "file_extension": ".py",
   "mimetype": "text/x-python",
   "name": "python",
   "nbconvert_exporter": "python",
   "pygments_lexer": "ipython3",
   "version": "3.9.12"
  }
 },
 "nbformat": 4,
 "nbformat_minor": 5
}
