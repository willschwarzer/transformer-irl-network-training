{
 "cells": [
  {
   "cell_type": "code",
   "execution_count": 4,
   "id": "c18f0959-e2a2-459f-be4d-8291c19dc7dd",
   "metadata": {},
   "outputs": [],
   "source": [
    "import numpy as np\n",
    "from tqdm import tqdm"
   ]
  },
  {
   "cell_type": "code",
   "execution_count": 2,
   "id": "12318cd0-8325-4246-9f5d-195dc3f99878",
   "metadata": {},
   "outputs": [],
   "source": [
    "x = np.load(\"examples_test_460000.npy\", allow_pickle=True)"
   ]
  },
  {
   "cell_type": "code",
   "execution_count": 5,
   "id": "aa40446f-d0cf-4d78-a259-79046d954ddf",
   "metadata": {},
   "outputs": [
    {
     "name": "stderr",
     "output_type": "stream",
     "text": [
      "460000it [00:56, 8212.95it/s]\n"
     ]
    }
   ],
   "source": [
    "states = np.zeros([460000, 150, 25], dtype=int)\n",
    "rewards = np.zeros([460000, 150], dtype=float)\n",
    "for idx, example in tqdm(enumerate(x)):\n",
    "    data = example[\"data\"]\n",
    "    traj_states = np.zeros([150, 25], dtype=int)\n",
    "    traj_rewards = np.zeros([150], dtype=float)\n",
    "    for t in range(len(data)):\n",
    "        traj_states[t] = data[t][0]\n",
    "        traj_rewards[t] = data[t][1]\n",
    "    states[idx] = traj_states\n",
    "    rewards[idx] = traj_rewards"
   ]
  },
  {
   "cell_type": "code",
   "execution_count": 9,
   "id": "73a7cb9f-5345-4942-a58c-b33586979a63",
   "metadata": {},
   "outputs": [],
   "source": [
    "np.save(\"states_460000.npy\", states)"
   ]
  },
  {
   "cell_type": "code",
   "execution_count": 10,
   "id": "b4ab8568-b822-4c0f-a54e-b8071feddd1c",
   "metadata": {},
   "outputs": [],
   "source": [
    "np.save(\"rewards_460000.npy\", rewards)"
   ]
  },
  {
   "cell_type": "code",
   "execution_count": 14,
   "id": "1573bcf3-3653-4e4b-a850-c03d1c61cc63",
   "metadata": {},
   "outputs": [],
   "source": [
    "np.save(\"states_4600.npy\", states[:4600])"
   ]
  },
  {
   "cell_type": "code",
   "execution_count": 15,
   "id": "8ab8d540-6623-4383-99c7-fcf4f38c3d01",
   "metadata": {},
   "outputs": [],
   "source": [
    "np.save(\"rewards_4600.npy\", rewards[:4600])"
   ]
  }
 ],
 "metadata": {
  "kernelspec": {
   "display_name": "Python 3 (ipykernel)",
   "language": "python",
   "name": "python3"
  },
  "language_info": {
   "codemirror_mode": {
    "name": "ipython",
    "version": 3
   },
   "file_extension": ".py",
   "mimetype": "text/x-python",
   "name": "python",
   "nbconvert_exporter": "python",
   "pygments_lexer": "ipython3",
   "version": "3.9.12"
  }
 },
 "nbformat": 4,
 "nbformat_minor": 5
}
