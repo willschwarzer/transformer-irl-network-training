{
 "cells": [
  {
   "cell_type": "code",
   "execution_count": 1,
   "id": "c18f0959-e2a2-459f-be4d-8291c19dc7dd",
   "metadata": {},
   "outputs": [],
   "source": [
    "import numpy as np\n",
    "from tqdm import tqdm"
   ]
  },
  {
   "cell_type": "code",
   "execution_count": 2,
   "id": "12318cd0-8325-4246-9f5d-195dc3f99878",
   "metadata": {},
   "outputs": [],
   "source": [
    "# x = np.load(\"examples_new_460000.npy\", allow_pickle=True)\n",
    "x = np.load(\"grid_regression_with_weights_1010000.npy\", allow_pickle=True)"
   ]
  },
  {
   "cell_type": "code",
   "execution_count": 3,
   "id": "aa40446f-d0cf-4d78-a259-79046d954ddf",
   "metadata": {},
   "outputs": [],
   "source": [
    "NUM_STATES = 1010000"
   ]
  },
  {
   "cell_type": "code",
   "execution_count": 5,
   "id": "8553ba7a-ec4e-441b-90d9-401d01c6d370",
   "metadata": {},
   "outputs": [
    {
     "name": "stderr",
     "output_type": "stream",
     "text": [
      "1010000it [02:05, 8047.23it/s]\n"
     ]
    }
   ],
   "source": [
    "states = np.zeros([NUM_STATES, 150, 25], dtype=int)\n",
    "rewards = np.zeros([NUM_STATES, 150], dtype=float)\n",
    "weights = np.zeros([NUM_STATES, 3], dtype=float)\n",
    "for idx, example in tqdm(enumerate(x)):\n",
    "    weights[idx] = example[\"weights\"]\n",
    "    data = example[\"data\"]\n",
    "    traj_states = np.zeros([150, 25], dtype=int)\n",
    "    traj_rewards = np.zeros([150], dtype=float)\n",
    "    for t in range(len(data)):\n",
    "        traj_states[t] = data[t][0]\n",
    "        traj_rewards[t] = data[t][1]\n",
    "    states[idx] = traj_states\n",
    "    rewards[idx] = traj_rewards"
   ]
  },
  {
   "cell_type": "code",
   "execution_count": 6,
   "id": "3b697f54-ee4e-48b2-af21-8af7178e1108",
   "metadata": {
    "tags": []
   },
   "outputs": [
    {
     "data": {
      "text/plain": [
       "array([[2, 0, 3, ..., 3, 3, 3],\n",
       "       [3, 0, 0, ..., 3, 3, 3],\n",
       "       [2, 0, 3, ..., 3, 3, 3],\n",
       "       ...,\n",
       "       [3, 3, 3, ..., 3, 3, 3],\n",
       "       [3, 3, 3, ..., 3, 3, 3],\n",
       "       [3, 3, 3, ..., 3, 3, 3]])"
      ]
     },
     "execution_count": 6,
     "metadata": {},
     "output_type": "execute_result"
    }
   ],
   "source": [
    "states[0]"
   ]
  },
  {
   "cell_type": "code",
   "execution_count": 23,
   "id": "56057a9c-3250-42ed-ae84-5bdd4724af0b",
   "metadata": {
    "collapsed": true,
    "jupyter": {
     "outputs_hidden": true
    },
    "tags": []
   },
   "outputs": [
    {
     "data": {
      "text/plain": [
       "array([10.18885403, 12.21433581,  3.15487071, 18.94940075,  3.19103176,\n",
       "       18.11223085,  7.82594034,  1.78203997,  1.39175277, 10.11324955,\n",
       "        0.71283505,  1.56211507,  7.76660506, 16.77078216,  0.68539243,\n",
       "        7.06386532,  0.99316186,  1.9413464 , 17.84870964, 11.03568938,\n",
       "        7.40704388,  1.77736511, 16.8160805 ,  1.41534585,  8.57632409,\n",
       "       17.89465163, 17.29654965,  1.12928168,  1.12278827,  1.3619686 ,\n",
       "       10.53958953,  2.25028661, 17.45309981,  1.22743015,  7.91057486,\n",
       "        8.13050388,  1.4512821 ,  7.28642997,  7.84145863,  1.88668597,\n",
       "       17.19425345,  1.55977764,  1.35559172,  1.40621269,  1.49159914,\n",
       "        1.85285822,  2.15020718,  2.13575139, 11.20978881, 17.11746891,\n",
       "        1.0897207 ,  1.13268161,  1.4619315 , 16.84054203,  0.97753116,\n",
       "       10.08591934,  1.01709627,  1.91008913, 11.53382846, 18.29078858,\n",
       "        8.02140783, 11.22201958, 17.13543704,  1.18458577,  0.80056305,\n",
       "        7.12086731,  0.61393466,  1.38526349,  2.12510612, 12.1286039 ,\n",
       "        8.14560333,  1.91888096,  8.12231257,  1.59091838,  7.836136  ,\n",
       "        8.82048572, 18.15583954,  2.8459305 , 19.08593943, 18.60652452,\n",
       "       18.62800085, 11.28974022,  9.0180617 ,  9.83673224, 18.70723934,\n",
       "       18.07372824, 11.03228945, 10.86883528,  2.15009478,  8.78753055,\n",
       "       18.23624056, 10.58330237,  1.3952651 , 10.89979436,  1.60583204,\n",
       "        2.27368977, 17.03260959,  1.6325186 , 10.55299107,  1.1577868 ,\n",
       "        2.04417385, 18.26153154,  8.7109318 , 18.1526254 ,  8.48485896,\n",
       "        1.48978883,  8.14975519,  7.74213939, 10.40293845,  2.24975948,\n",
       "       18.05225604,  8.09755284,  1.83383997,  1.53830131,  1.90477063,\n",
       "       17.25125131,  7.73171893,  0.90596098,  1.1724674 , 10.04922703,\n",
       "        1.42301004,  7.79797473,  2.05769192, 18.45360322, 12.58239062,\n",
       "       19.79951434, 10.4939447 , 19.78803963,  3.45816564, 18.82774085,\n",
       "       18.11744933, 17.00452332,  0.79769437, 10.37251063,  1.69502901,\n",
       "        1.89634625, 17.99267944,  8.18282276,  8.25620737, 10.33581832,\n",
       "        7.38545102,  1.45215881,  1.63995798,  8.69606542, 18.74966901,\n",
       "       17.96727606,  7.57049391,  1.58891403, 10.74260055,  1.67951071])"
      ]
     },
     "execution_count": 23,
     "metadata": {},
     "output_type": "execute_result"
    }
   ],
   "source": [
    "rewards[5000]"
   ]
  },
  {
   "cell_type": "code",
   "execution_count": 22,
   "id": "e3f66632-111a-4699-8846-113a27a38fce",
   "metadata": {},
   "outputs": [
    {
     "data": {
      "text/plain": [
       "array([0.8167437 , 0.32796258, 0.4747318 ])"
      ]
     },
     "execution_count": 22,
     "metadata": {},
     "output_type": "execute_result"
    }
   ],
   "source": [
    "weights[5000]"
   ]
  },
  {
   "cell_type": "code",
   "execution_count": 4,
   "id": "abe70fee-0949-4598-80d8-7f7d924211fe",
   "metadata": {},
   "outputs": [],
   "source": [
    "states_copy = np.copy(states)"
   ]
  },
  {
   "cell_type": "code",
   "execution_count": 6,
   "id": "8c061e7d-4491-4cf3-b319-6c78c9dfc8b4",
   "metadata": {},
   "outputs": [
    {
     "data": {
      "text/plain": [
       "array([1, 3, 0, 2])"
      ]
     },
     "execution_count": 6,
     "metadata": {},
     "output_type": "execute_result"
    }
   ],
   "source": [
    "perm = np.arange(4)\n",
    "np.random.shuffle(perm)\n",
    "perm"
   ]
  },
  {
   "cell_type": "code",
   "execution_count": 7,
   "id": "09694a8e-5368-4377-9808-e49f4bd447aa",
   "metadata": {},
   "outputs": [
    {
     "data": {
      "text/plain": [
       "array([[3, 3, 3, ..., 3, 3, 2],\n",
       "       [1, 3, 3, ..., 3, 1, 3],\n",
       "       [1, 1, 3, ..., 3, 3, 1],\n",
       "       ...,\n",
       "       [3, 3, 3, ..., 3, 3, 1],\n",
       "       [3, 3, 3, ..., 3, 3, 3],\n",
       "       [3, 3, 3, ..., 3, 3, 3]])"
      ]
     },
     "execution_count": 7,
     "metadata": {},
     "output_type": "execute_result"
    }
   ],
   "source": [
    "states_copy[1]"
   ]
  },
  {
   "cell_type": "code",
   "execution_count": 8,
   "id": "d360c49a-ccab-46b6-8c10-e0d658cd0772",
   "metadata": {},
   "outputs": [
    {
     "data": {
      "text/plain": [
       "array([[2, 2, 2, ..., 2, 2, 0],\n",
       "       [3, 2, 2, ..., 2, 3, 2],\n",
       "       [3, 3, 2, ..., 2, 2, 3],\n",
       "       ...,\n",
       "       [2, 2, 2, ..., 2, 2, 3],\n",
       "       [2, 2, 2, ..., 2, 2, 2],\n",
       "       [2, 2, 2, ..., 2, 2, 2]])"
      ]
     },
     "execution_count": 8,
     "metadata": {},
     "output_type": "execute_result"
    }
   ],
   "source": [
    "perm[states_copy[1]]"
   ]
  },
  {
   "cell_type": "code",
   "execution_count": 5,
   "id": "73a7cb9f-5345-4942-a58c-b33586979a63",
   "metadata": {},
   "outputs": [],
   "source": [
    "# np.save(\"states_460000.npy\", states)"
   ]
  },
  {
   "cell_type": "code",
   "execution_count": 6,
   "id": "b4ab8568-b822-4c0f-a54e-b8071feddd1c",
   "metadata": {},
   "outputs": [],
   "source": [
    "# np.save(\"rewards_460000.npy\", rewards)"
   ]
  },
  {
   "cell_type": "code",
   "execution_count": 10,
   "id": "8dda609d-ad19-4e75-b562-68b3ef305001",
   "metadata": {},
   "outputs": [],
   "source": [
    "np.save(\"states_100000.npy\", states)\n",
    "np.save(\"rewards_100000.npy\", rewards)"
   ]
  },
  {
   "cell_type": "code",
   "execution_count": 24,
   "id": "1ee2f328-d2ef-4e9f-87ef-27a7037d83a3",
   "metadata": {},
   "outputs": [],
   "source": [
    "np.save(f\"states_{NUM_STATES}.npy\", states)\n",
    "np.save(f\"rewards_{NUM_STATES}.npy\", rewards)\n",
    "np.save(f\"weights_{NUM_STATES}.npy\", weights)"
   ]
  },
  {
   "cell_type": "code",
   "execution_count": 25,
   "id": "c4dc2f97-7be0-4c93-9653-bee7d905303a",
   "metadata": {},
   "outputs": [],
   "source": [
    "NUM_STATES_TEST = 10100"
   ]
  },
  {
   "cell_type": "code",
   "execution_count": 26,
   "id": "f45a16e4-d4a1-4bb7-90dd-75a9227267d4",
   "metadata": {},
   "outputs": [],
   "source": [
    "np.save(f\"states_{NUM_STATES_TEST}.npy\", states[:NUM_STATES_TEST])\n",
    "np.save(f\"rewards_{NUM_STATES_TEST}.npy\", rewards[:NUM_STATES_TEST])\n",
    "np.save(f\"weights_{NUM_STATES_TEST}.npy\", weights[:NUM_STATES_TEST])"
   ]
  },
  {
   "cell_type": "code",
   "execution_count": 7,
   "id": "1573bcf3-3653-4e4b-a850-c03d1c61cc63",
   "metadata": {},
   "outputs": [],
   "source": [
    "np.save(\"states_4600.npy\", states[:4600])"
   ]
  },
  {
   "cell_type": "code",
   "execution_count": 8,
   "id": "8ab8d540-6623-4383-99c7-fcf4f38c3d01",
   "metadata": {},
   "outputs": [],
   "source": [
    "np.save(\"rewards_4600.npy\", rewards[:4600])"
   ]
  },
  {
   "cell_type": "code",
   "execution_count": 9,
   "id": "40f2869c-fd5f-454b-a619-f987bcbe17f4",
   "metadata": {},
   "outputs": [],
   "source": [
    "np.save(\"states_46000.npy\", states[:46000])"
   ]
  },
  {
   "cell_type": "code",
   "execution_count": 10,
   "id": "76473033-e485-4c6f-9143-eb4591446d34",
   "metadata": {},
   "outputs": [],
   "source": [
    "np.save(\"rewards_46000.npy\", rewards[:46000])"
   ]
  },
  {
   "cell_type": "code",
   "execution_count": 4,
   "id": "11142760-1392-4d68-a20a-110a99c7f674",
   "metadata": {},
   "outputs": [],
   "source": [
    "np.save(\"states_60000.npy\", states[:60000])"
   ]
  },
  {
   "cell_type": "code",
   "execution_count": 5,
   "id": "19b99709-8b93-4529-b0b9-fcd858b7279c",
   "metadata": {},
   "outputs": [],
   "source": [
    "np.save(\"rewards_60000.npy\", rewards[:60000])"
   ]
  },
  {
   "cell_type": "code",
   "execution_count": null,
   "id": "d1629a7f-8ed9-445c-bdb1-4e8b6c433fdf",
   "metadata": {},
   "outputs": [],
   "source": []
  },
  {
   "cell_type": "code",
   "execution_count": 12,
   "id": "50493911-43ed-4d1b-8bb5-b9cd89a7116e",
   "metadata": {},
   "outputs": [
    {
     "data": {
      "text/plain": [
       "(460000, 150, 25)"
      ]
     },
     "execution_count": 12,
     "metadata": {},
     "output_type": "execute_result"
    }
   ],
   "source": [
    "states.shape"
   ]
  },
  {
   "cell_type": "code",
   "execution_count": 15,
   "id": "a2bc53a7-47fd-4b2f-b008-60f8d38ee7d2",
   "metadata": {},
   "outputs": [
    {
     "data": {
      "text/plain": [
       "array([[3, 3, 3, ..., 1, 3, 3],\n",
       "       [3, 2, 1, ..., 3, 1, 3],\n",
       "       [3, 1, 1, ..., 1, 3, 3],\n",
       "       ...,\n",
       "       [3, 3, 3, ..., 3, 3, 3],\n",
       "       [3, 2, 3, ..., 3, 3, 3],\n",
       "       [3, 3, 3, ..., 3, 3, 3]])"
      ]
     },
     "execution_count": 15,
     "metadata": {},
     "output_type": "execute_result"
    }
   ],
   "source": [
    "states[:, :, 12]"
   ]
  }
 ],
 "metadata": {
  "kernelspec": {
   "display_name": "Python 3 (ipykernel)",
   "language": "python",
   "name": "python3"
  },
  "language_info": {
   "codemirror_mode": {
    "name": "ipython",
    "version": 3
   },
   "file_extension": ".py",
   "mimetype": "text/x-python",
   "name": "python",
   "nbconvert_exporter": "python",
   "pygments_lexer": "ipython3",
   "version": "3.9.12"
  }
 },
 "nbformat": 4,
 "nbformat_minor": 5
}
