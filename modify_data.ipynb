{
 "cells": [
  {
   "cell_type": "code",
   "execution_count": 3,
   "id": "c18f0959-e2a2-459f-be4d-8291c19dc7dd",
   "metadata": {},
   "outputs": [],
   "source": [
    "import numpy as np\n",
    "from tqdm import tqdm"
   ]
  },
  {
   "cell_type": "code",
   "execution_count": 1,
   "id": "ac0c7109-93bd-4dbe-81ef-57ad4857a4ca",
   "metadata": {},
   "outputs": [],
   "source": [
    "NUM_STATES = 1010000"
   ]
  },
  {
   "cell_type": "code",
   "execution_count": 5,
   "id": "12318cd0-8325-4246-9f5d-195dc3f99878",
   "metadata": {},
   "outputs": [],
   "source": [
    "# x = np.load(\"examples_new_460000.npy\", allow_pickle=True)\n",
    "# x = np.load(f\"data/grid_regression_with_weights_{NUM_STATES}.npy\", allow_pickle=True)"
   ]
  },
  {
   "cell_type": "code",
   "execution_count": 5,
   "id": "8553ba7a-ec4e-441b-90d9-401d01c6d370",
   "metadata": {},
   "outputs": [
    {
     "name": "stderr",
     "output_type": "stream",
     "text": [
      "1010000it [02:05, 8047.23it/s]\n"
     ]
    }
   ],
   "source": [
    "states = np.zeros([NUM_STATES, 150, 25], dtype=int)\n",
    "rewards = np.zeros([NUM_STATES, 150], dtype=float)\n",
    "weights = np.zeros([NUM_STATES, 3], dtype=float)\n",
    "for idx, example in tqdm(enumerate(x)):\n",
    "    weights[idx] = example[\"weights\"]\n",
    "    data = example[\"data\"]\n",
    "    traj_states = np.zeros([150, 25], dtype=int)\n",
    "    traj_rewards = np.zeros([150], dtype=float)\n",
    "    for t in range(len(data)):\n",
    "        traj_states[t] = data[t][0]\n",
    "        traj_rewards[t] = data[t][1]\n",
    "    states[idx] = traj_states\n",
    "    rewards[idx] = traj_rewards"
   ]
  },
  {
   "cell_type": "code",
   "execution_count": 13,
   "id": "0b18d308-dc24-4faf-8df4-73fed8259c9f",
   "metadata": {},
   "outputs": [],
   "source": [
    "states = np.load(f\"data/states_{NUM_STATES}.npy\")\n",
    "rewards = np.load(f\"data/rewards_{NUM_STATES}.npy\")\n",
    "weights = np.load(f\"data/weights_{NUM_STATES}.npy\")"
   ]
  },
  {
   "cell_type": "code",
   "execution_count": 4,
   "id": "81a8c6db-aef2-4fd8-9674-07ae71655322",
   "metadata": {},
   "outputs": [],
   "source": [
    "shuffled_states = np.load(f\"data/shuffled_states_{NUM_STATES}.npy\")\n",
    "shuffled_rewards = np.load(f\"data/shuffled_rewards_{NUM_STATES}.npy\")\n",
    "shuffled_weights = np.load(f\"data/shuffled_weights_{NUM_STATES}.npy\")"
   ]
  },
  {
   "cell_type": "code",
   "execution_count": 5,
   "id": "e978ebb8-423a-4054-83ab-b982b54791f0",
   "metadata": {},
   "outputs": [],
   "source": [
    "shuffled_states_small = shuffled_states[:10100]\n",
    "shuffled_rewards_small = shuffled_rewards[:10100]\n",
    "shuffled_weights_small = shuffled_weights[:10100]"
   ]
  },
  {
   "cell_type": "code",
   "execution_count": 6,
   "id": "e4788ed2-e916-4f62-aa3e-2a2100f35077",
   "metadata": {},
   "outputs": [],
   "source": [
    "np.save(f\"data/shuffled_states_10100.npy\", shuffled_states_small)\n",
    "np.save(f\"data/shuffled_rewards_10100.npy\", shuffled_rewards_small)\n",
    "np.save(f\"data/shuffled_weights_10100.npy\", shuffled_weights_small)"
   ]
  },
  {
   "cell_type": "code",
   "execution_count": 89,
   "id": "2aad3171-b1f9-4cf5-babc-9f78070e9d78",
   "metadata": {},
   "outputs": [],
   "source": [
    "summed = weights.sum(axis=1)\n",
    "summed_sorted_indices = np.argsort(summed)\n",
    "# sorted_summed = weights[summed_sorted_indices]\n",
    "sorted_states = states[summed_sorted_indices]\n",
    "sorted_rewards = rewards[summed_sorted_indices]\n",
    "sorted_weights = weights[summed_sorted_indices]"
   ]
  },
  {
   "cell_type": "code",
   "execution_count": 88,
   "id": "0ef1bc49-0e6a-45d7-bfb8-817093cc8b64",
   "metadata": {},
   "outputs": [
    {
     "data": {
      "text/plain": [
       "array([[-0.58296714, -0.57661197, -0.57242288],\n",
       "       [-0.58296714, -0.57661197, -0.57242288],\n",
       "       [-0.58296714, -0.57661197, -0.57242288],\n",
       "       ...,\n",
       "       [ 0.57954381,  0.57684721,  0.5756529 ],\n",
       "       [ 0.57954381,  0.57684721,  0.5756529 ],\n",
       "       [ 0.57954381,  0.57684721,  0.5756529 ]])"
      ]
     },
     "execution_count": 88,
     "metadata": {},
     "output_type": "execute_result"
    }
   ],
   "source": [
    "weights[summed_sorted_indices]"
   ]
  },
  {
   "cell_type": "code",
   "execution_count": 79,
   "id": "27663d9e-d844-4fe6-9799-3d650f08d5cb",
   "metadata": {},
   "outputs": [
    {
     "data": {
      "text/plain": [
       "(1010000, 150, 25)"
      ]
     },
     "execution_count": 79,
     "metadata": {},
     "output_type": "execute_result"
    }
   ],
   "source": [
    "sorted_states.shape"
   ]
  },
  {
   "cell_type": "code",
   "execution_count": 90,
   "id": "9adc9883-c5fb-4c14-a93a-a64c373de379",
   "metadata": {},
   "outputs": [],
   "source": [
    "sorted_states_unflattened = np.reshape(sorted_states, (-1, 100, sorted_states.shape[-2], sorted_states.shape[-1]))\n",
    "sorted_rewards_unflattened = np.reshape(sorted_rewards, (-1, 100, sorted_rewards.shape[-1]))\n",
    "sorted_weights_unflattened = np.reshape(sorted_weights, (-1, 100, sorted_weights.shape[-1]))"
   ]
  },
  {
   "cell_type": "code",
   "execution_count": 91,
   "id": "b102db27-cf19-45fa-9ea6-feb749307257",
   "metadata": {},
   "outputs": [
    {
     "name": "stdout",
     "output_type": "stream",
     "text": [
      "(10100, 100, 150, 25)\n",
      "(10100, 100, 150)\n",
      "(10100, 100, 3)\n"
     ]
    }
   ],
   "source": [
    "print(sorted_states_unflattened.shape)\n",
    "print(sorted_rewards_unflattened.shape)\n",
    "print(sorted_weights_unflattened.shape)"
   ]
  },
  {
   "cell_type": "code",
   "execution_count": 92,
   "id": "83afb9d7-982e-4691-b582-1e5f6a9f823c",
   "metadata": {},
   "outputs": [],
   "source": [
    "shuffled_idxs = np.random.permutation(NUM_STATES//100)"
   ]
  },
  {
   "cell_type": "code",
   "execution_count": 93,
   "id": "21f85b53-6a2f-4552-b284-ac77eeff9aad",
   "metadata": {},
   "outputs": [
    {
     "data": {
      "text/plain": [
       "array([1564, 5066, 3625, ..., 1041, 3168, 2251])"
      ]
     },
     "execution_count": 93,
     "metadata": {},
     "output_type": "execute_result"
    }
   ],
   "source": [
    "shuffled_idxs"
   ]
  },
  {
   "cell_type": "code",
   "execution_count": 94,
   "id": "e01254c3-94bf-445e-b81b-bd2bb69457f9",
   "metadata": {},
   "outputs": [],
   "source": [
    "shuffled_states_unflattened = sorted_states_unflattened[shuffled_idxs]\n",
    "shuffled_rewards_unflattened = sorted_rewards_unflattened[shuffled_idxs]\n",
    "shuffled_weights_unflattened = sorted_weights_unflattened[shuffled_idxs]"
   ]
  },
  {
   "cell_type": "code",
   "execution_count": 96,
   "id": "78e10b15-a181-47c4-a318-3756cf410f0c",
   "metadata": {},
   "outputs": [],
   "source": [
    "shuffled_states = np.reshape(shuffled_states_unflattened, (-1, shuffled_states_unflattened.shape[-2], shuffled_states_unflattened.shape[-1]))\n",
    "shuffled_rewards = np.reshape(shuffled_rewards_unflattened, (-1, shuffled_rewards_unflattened.shape[-1]))\n",
    "shuffled_weights = np.reshape(shuffled_weights_unflattened, (-1, shuffled_weights_unflattened.shape[-1]))"
   ]
  },
  {
   "cell_type": "code",
   "execution_count": 103,
   "id": "9df1049d-ab58-4f82-abc3-7fd301ecf12d",
   "metadata": {},
   "outputs": [],
   "source": [
    "np.save(f\"data/shuffled_states_{NUM_STATES}.npy\", shuffled_states)\n",
    "np.save(f\"data/shuffled_rewards_{NUM_STATES}.npy\", shuffled_rewards)\n",
    "np.save(f\"data/shuffled_weights_{NUM_STATES}.npy\", shuffled_weights)"
   ]
  },
  {
   "cell_type": "code",
   "execution_count": 101,
   "id": "a53e019b-22d6-4233-8363-10fff616e113",
   "metadata": {},
   "outputs": [
    {
     "data": {
      "text/plain": [
       "array([521, 521, 521, 521, 521, 521, 521, 521, 521, 521, 521, 521, 521,\n",
       "       521, 521, 521, 521, 521, 521, 521, 521, 521, 521, 521, 521, 521,\n",
       "       521, 521, 521, 521, 521, 521, 521, 521, 521, 521, 521, 521, 521,\n",
       "       521, 521, 521, 521, 521, 521, 521, 521, 521, 521, 521, 521, 521,\n",
       "       521, 521, 521, 521, 521, 521, 521, 521, 521, 521, 521, 521, 521,\n",
       "       521, 521, 521, 521, 521, 521, 521, 521, 521, 521, 521, 521, 521,\n",
       "       521, 521, 521, 521, 521, 521, 521, 521, 521, 521, 521, 521, 521,\n",
       "       521, 521, 521, 521, 521, 521, 521, 521, 521])"
      ]
     },
     "execution_count": 101,
     "metadata": {},
     "output_type": "execute_result"
    }
   ],
   "source": [
    "# np.unique(shuffled_weights, axis=0, return_inverse=True)[1][0:100]"
   ]
  },
  {
   "cell_type": "code",
   "execution_count": 60,
   "id": "4d1d9e0a-b83d-4bb2-bafd-23a49b0c9d75",
   "metadata": {},
   "outputs": [
    {
     "data": {
      "text/plain": [
       "array([[948881, 995478, 555733],\n",
       "       [100480, 268279, 818333],\n",
       "       [888280, 248078, 676932],\n",
       "       ...,\n",
       "       [832576, 291400,  67636],\n",
       "       [468976, 796400, 875636],\n",
       "       [  4377, 271201, 613037]])"
      ]
     },
     "execution_count": 60,
     "metadata": {},
     "output_type": "execute_result"
    }
   ],
   "source": [
    "sorted_weights_indices = np.argsort(weights, axis=0)\n",
    "sorted_weights_indices"
   ]
  },
  {
   "cell_type": "code",
   "execution_count": 46,
   "id": "65961ccb-3ab0-42a1-bf8c-ccb83cff17f7",
   "metadata": {},
   "outputs": [
    {
     "data": {
      "text/plain": [
       "array([ 340,  340, 2260, ..., 3017, 4529, 4529])"
      ]
     },
     "execution_count": 46,
     "metadata": {},
     "output_type": "execute_result"
    }
   ],
   "source": [
    "# \n",
    "np.unique(weights, axis=0, return_inverse=True)[1]"
   ]
  },
  {
   "cell_type": "code",
   "execution_count": 35,
   "id": "e44557d8-14e3-4183-9dbf-f51e692334a2",
   "metadata": {
    "collapsed": true,
    "jupyter": {
     "outputs_hidden": true
    },
    "tags": []
   },
   "outputs": [
    {
     "name": "stderr",
     "output_type": "stream",
     "text": [
      "8057it [02:55, 45.86it/s]\n"
     ]
    },
    {
     "ename": "KeyboardInterrupt",
     "evalue": "",
     "output_type": "error",
     "traceback": [
      "\u001b[0;31m---------------------------------------------------------------------------\u001b[0m",
      "\u001b[0;31mKeyboardInterrupt\u001b[0m                         Traceback (most recent call last)",
      "Input \u001b[0;32mIn [35]\u001b[0m, in \u001b[0;36m<cell line: 2>\u001b[0;34m()\u001b[0m\n\u001b[1;32m      1\u001b[0m all_weight_positions \u001b[38;5;241m=\u001b[39m np\u001b[38;5;241m.\u001b[39mzeros((NUM_STATES\u001b[38;5;241m/\u001b[39m\u001b[38;5;241m/\u001b[39m\u001b[38;5;241m100\u001b[39m, \u001b[38;5;241m100\u001b[39m), dtype\u001b[38;5;241m=\u001b[39m\u001b[38;5;28mint\u001b[39m)\n\u001b[1;32m      2\u001b[0m \u001b[38;5;28;01mfor\u001b[39;00m idx, weight_set \u001b[38;5;129;01min\u001b[39;00m tqdm(\u001b[38;5;28menumerate\u001b[39m(np\u001b[38;5;241m.\u001b[39munique(weights))):\n\u001b[0;32m----> 3\u001b[0m     all_weight_positions[idx] \u001b[38;5;241m=\u001b[39m np\u001b[38;5;241m.\u001b[39mnonzero(\u001b[43mnp\u001b[49m\u001b[38;5;241;43m.\u001b[39;49m\u001b[43mall\u001b[49m\u001b[43m(\u001b[49m\u001b[43m(\u001b[49m\u001b[43mweights\u001b[49m\u001b[43m \u001b[49m\u001b[38;5;241;43m==\u001b[39;49m\u001b[43m \u001b[49m\u001b[43mweights\u001b[49m\u001b[43m[\u001b[49m\u001b[38;5;241;43m0\u001b[39;49m\u001b[43m]\u001b[49m\u001b[43m)\u001b[49m\u001b[43m,\u001b[49m\u001b[43m \u001b[49m\u001b[43maxis\u001b[49m\u001b[38;5;241;43m=\u001b[39;49m\u001b[38;5;241;43m1\u001b[39;49m\u001b[43m)\u001b[49m)[\u001b[38;5;241m0\u001b[39m]\n",
      "File \u001b[0;32m<__array_function__ internals>:5\u001b[0m, in \u001b[0;36mall\u001b[0;34m(*args, **kwargs)\u001b[0m\n",
      "File \u001b[0;32m~/anaconda3/lib/python3.9/site-packages/numpy/core/fromnumeric.py:2450\u001b[0m, in \u001b[0;36mall\u001b[0;34m(a, axis, out, keepdims, where)\u001b[0m\n\u001b[1;32m   2367\u001b[0m \u001b[38;5;129m@array_function_dispatch\u001b[39m(_all_dispatcher)\n\u001b[1;32m   2368\u001b[0m \u001b[38;5;28;01mdef\u001b[39;00m \u001b[38;5;21mall\u001b[39m(a, axis\u001b[38;5;241m=\u001b[39m\u001b[38;5;28;01mNone\u001b[39;00m, out\u001b[38;5;241m=\u001b[39m\u001b[38;5;28;01mNone\u001b[39;00m, keepdims\u001b[38;5;241m=\u001b[39mnp\u001b[38;5;241m.\u001b[39m_NoValue, \u001b[38;5;241m*\u001b[39m, where\u001b[38;5;241m=\u001b[39mnp\u001b[38;5;241m.\u001b[39m_NoValue):\n\u001b[1;32m   2369\u001b[0m     \u001b[38;5;124;03m\"\"\"\u001b[39;00m\n\u001b[1;32m   2370\u001b[0m \u001b[38;5;124;03m    Test whether all array elements along a given axis evaluate to True.\u001b[39;00m\n\u001b[1;32m   2371\u001b[0m \n\u001b[0;32m   (...)\u001b[0m\n\u001b[1;32m   2448\u001b[0m \n\u001b[1;32m   2449\u001b[0m \u001b[38;5;124;03m    \"\"\"\u001b[39;00m\n\u001b[0;32m-> 2450\u001b[0m     \u001b[38;5;28;01mreturn\u001b[39;00m \u001b[43m_wrapreduction\u001b[49m\u001b[43m(\u001b[49m\u001b[43ma\u001b[49m\u001b[43m,\u001b[49m\u001b[43m \u001b[49m\u001b[43mnp\u001b[49m\u001b[38;5;241;43m.\u001b[39;49m\u001b[43mlogical_and\u001b[49m\u001b[43m,\u001b[49m\u001b[43m \u001b[49m\u001b[38;5;124;43m'\u001b[39;49m\u001b[38;5;124;43mall\u001b[39;49m\u001b[38;5;124;43m'\u001b[39;49m\u001b[43m,\u001b[49m\u001b[43m \u001b[49m\u001b[43maxis\u001b[49m\u001b[43m,\u001b[49m\u001b[43m \u001b[49m\u001b[38;5;28;43;01mNone\u001b[39;49;00m\u001b[43m,\u001b[49m\u001b[43m \u001b[49m\u001b[43mout\u001b[49m\u001b[43m,\u001b[49m\n\u001b[1;32m   2451\u001b[0m \u001b[43m                          \u001b[49m\u001b[43mkeepdims\u001b[49m\u001b[38;5;241;43m=\u001b[39;49m\u001b[43mkeepdims\u001b[49m\u001b[43m,\u001b[49m\u001b[43m \u001b[49m\u001b[43mwhere\u001b[49m\u001b[38;5;241;43m=\u001b[39;49m\u001b[43mwhere\u001b[49m\u001b[43m)\u001b[49m\n",
      "File \u001b[0;32m~/anaconda3/lib/python3.9/site-packages/numpy/core/fromnumeric.py:86\u001b[0m, in \u001b[0;36m_wrapreduction\u001b[0;34m(obj, ufunc, method, axis, dtype, out, **kwargs)\u001b[0m\n\u001b[1;32m     83\u001b[0m         \u001b[38;5;28;01melse\u001b[39;00m:\n\u001b[1;32m     84\u001b[0m             \u001b[38;5;28;01mreturn\u001b[39;00m reduction(axis\u001b[38;5;241m=\u001b[39maxis, out\u001b[38;5;241m=\u001b[39mout, \u001b[38;5;241m*\u001b[39m\u001b[38;5;241m*\u001b[39mpasskwargs)\n\u001b[0;32m---> 86\u001b[0m \u001b[38;5;28;01mreturn\u001b[39;00m \u001b[43mufunc\u001b[49m\u001b[38;5;241;43m.\u001b[39;49m\u001b[43mreduce\u001b[49m\u001b[43m(\u001b[49m\u001b[43mobj\u001b[49m\u001b[43m,\u001b[49m\u001b[43m \u001b[49m\u001b[43maxis\u001b[49m\u001b[43m,\u001b[49m\u001b[43m \u001b[49m\u001b[43mdtype\u001b[49m\u001b[43m,\u001b[49m\u001b[43m \u001b[49m\u001b[43mout\u001b[49m\u001b[43m,\u001b[49m\u001b[43m \u001b[49m\u001b[38;5;241;43m*\u001b[39;49m\u001b[38;5;241;43m*\u001b[39;49m\u001b[43mpasskwargs\u001b[49m\u001b[43m)\u001b[49m\n",
      "\u001b[0;31mKeyboardInterrupt\u001b[0m: "
     ]
    }
   ],
   "source": [
    "all_weight_positions = np.zeros((NUM_STATES//100, 100), dtype=int)\n",
    "for idx, weight_set in tqdm(enumerate(np.unique(weights))):\n",
    "    all_weight_positions[idx] = np.nonzero(np.all((weights == weights[0]), axis=1))[0]\n",
    "    \n",
    "# first_weights = np.nonzero(np.all((weights == weights[0]), axis=1))\n",
    "# first_weights\n",
    "# states[first_weights].shape\n",
    "# for weight in np.unique(weights, axis=0):\n",
    "    "
   ]
  },
  {
   "cell_type": "code",
   "execution_count": 38,
   "id": "3eb9be4d-4b06-4f55-914d-3a01cf1ae375",
   "metadata": {},
   "outputs": [
    {
     "name": "stderr",
     "output_type": "stream",
     "text": [
      "100%|████████████████████████████████████████████████████████████████████████████████████████████████████████████████████████████████████████████████████████████████████████████████████████████████████████████████████████████████████| 1010000/1010000 [00:00<00:00, 2368415.28it/s]\n"
     ]
    }
   ],
   "source": [
    "for i in tqdm(range(NUM_STATES)):\n",
    "    "
   ]
  },
  {
   "cell_type": "code",
   "execution_count": 6,
   "id": "3b697f54-ee4e-48b2-af21-8af7178e1108",
   "metadata": {
    "tags": []
   },
   "outputs": [
    {
     "data": {
      "text/plain": [
       "array([[2, 0, 3, ..., 3, 3, 3],\n",
       "       [3, 0, 0, ..., 3, 3, 3],\n",
       "       [2, 0, 3, ..., 3, 3, 3],\n",
       "       ...,\n",
       "       [3, 3, 3, ..., 3, 3, 3],\n",
       "       [3, 3, 3, ..., 3, 3, 3],\n",
       "       [3, 3, 3, ..., 3, 3, 3]])"
      ]
     },
     "execution_count": 6,
     "metadata": {},
     "output_type": "execute_result"
    }
   ],
   "source": [
    "states[0]"
   ]
  },
  {
   "cell_type": "code",
   "execution_count": 23,
   "id": "56057a9c-3250-42ed-ae84-5bdd4724af0b",
   "metadata": {
    "collapsed": true,
    "jupyter": {
     "outputs_hidden": true
    },
    "tags": []
   },
   "outputs": [
    {
     "data": {
      "text/plain": [
       "array([10.18885403, 12.21433581,  3.15487071, 18.94940075,  3.19103176,\n",
       "       18.11223085,  7.82594034,  1.78203997,  1.39175277, 10.11324955,\n",
       "        0.71283505,  1.56211507,  7.76660506, 16.77078216,  0.68539243,\n",
       "        7.06386532,  0.99316186,  1.9413464 , 17.84870964, 11.03568938,\n",
       "        7.40704388,  1.77736511, 16.8160805 ,  1.41534585,  8.57632409,\n",
       "       17.89465163, 17.29654965,  1.12928168,  1.12278827,  1.3619686 ,\n",
       "       10.53958953,  2.25028661, 17.45309981,  1.22743015,  7.91057486,\n",
       "        8.13050388,  1.4512821 ,  7.28642997,  7.84145863,  1.88668597,\n",
       "       17.19425345,  1.55977764,  1.35559172,  1.40621269,  1.49159914,\n",
       "        1.85285822,  2.15020718,  2.13575139, 11.20978881, 17.11746891,\n",
       "        1.0897207 ,  1.13268161,  1.4619315 , 16.84054203,  0.97753116,\n",
       "       10.08591934,  1.01709627,  1.91008913, 11.53382846, 18.29078858,\n",
       "        8.02140783, 11.22201958, 17.13543704,  1.18458577,  0.80056305,\n",
       "        7.12086731,  0.61393466,  1.38526349,  2.12510612, 12.1286039 ,\n",
       "        8.14560333,  1.91888096,  8.12231257,  1.59091838,  7.836136  ,\n",
       "        8.82048572, 18.15583954,  2.8459305 , 19.08593943, 18.60652452,\n",
       "       18.62800085, 11.28974022,  9.0180617 ,  9.83673224, 18.70723934,\n",
       "       18.07372824, 11.03228945, 10.86883528,  2.15009478,  8.78753055,\n",
       "       18.23624056, 10.58330237,  1.3952651 , 10.89979436,  1.60583204,\n",
       "        2.27368977, 17.03260959,  1.6325186 , 10.55299107,  1.1577868 ,\n",
       "        2.04417385, 18.26153154,  8.7109318 , 18.1526254 ,  8.48485896,\n",
       "        1.48978883,  8.14975519,  7.74213939, 10.40293845,  2.24975948,\n",
       "       18.05225604,  8.09755284,  1.83383997,  1.53830131,  1.90477063,\n",
       "       17.25125131,  7.73171893,  0.90596098,  1.1724674 , 10.04922703,\n",
       "        1.42301004,  7.79797473,  2.05769192, 18.45360322, 12.58239062,\n",
       "       19.79951434, 10.4939447 , 19.78803963,  3.45816564, 18.82774085,\n",
       "       18.11744933, 17.00452332,  0.79769437, 10.37251063,  1.69502901,\n",
       "        1.89634625, 17.99267944,  8.18282276,  8.25620737, 10.33581832,\n",
       "        7.38545102,  1.45215881,  1.63995798,  8.69606542, 18.74966901,\n",
       "       17.96727606,  7.57049391,  1.58891403, 10.74260055,  1.67951071])"
      ]
     },
     "execution_count": 23,
     "metadata": {},
     "output_type": "execute_result"
    }
   ],
   "source": [
    "rewards[5000]"
   ]
  },
  {
   "cell_type": "code",
   "execution_count": 22,
   "id": "e3f66632-111a-4699-8846-113a27a38fce",
   "metadata": {},
   "outputs": [
    {
     "data": {
      "text/plain": [
       "array([0.8167437 , 0.32796258, 0.4747318 ])"
      ]
     },
     "execution_count": 22,
     "metadata": {},
     "output_type": "execute_result"
    }
   ],
   "source": [
    "weights[5000]"
   ]
  },
  {
   "cell_type": "code",
   "execution_count": 4,
   "id": "abe70fee-0949-4598-80d8-7f7d924211fe",
   "metadata": {},
   "outputs": [],
   "source": [
    "states_copy = np.copy(states)"
   ]
  },
  {
   "cell_type": "code",
   "execution_count": 6,
   "id": "8c061e7d-4491-4cf3-b319-6c78c9dfc8b4",
   "metadata": {},
   "outputs": [
    {
     "data": {
      "text/plain": [
       "array([1, 3, 0, 2])"
      ]
     },
     "execution_count": 6,
     "metadata": {},
     "output_type": "execute_result"
    }
   ],
   "source": [
    "perm = np.arange(4)\n",
    "np.random.shuffle(perm)\n",
    "perm"
   ]
  },
  {
   "cell_type": "code",
   "execution_count": 7,
   "id": "09694a8e-5368-4377-9808-e49f4bd447aa",
   "metadata": {},
   "outputs": [
    {
     "data": {
      "text/plain": [
       "array([[3, 3, 3, ..., 3, 3, 2],\n",
       "       [1, 3, 3, ..., 3, 1, 3],\n",
       "       [1, 1, 3, ..., 3, 3, 1],\n",
       "       ...,\n",
       "       [3, 3, 3, ..., 3, 3, 1],\n",
       "       [3, 3, 3, ..., 3, 3, 3],\n",
       "       [3, 3, 3, ..., 3, 3, 3]])"
      ]
     },
     "execution_count": 7,
     "metadata": {},
     "output_type": "execute_result"
    }
   ],
   "source": [
    "states_copy[1]"
   ]
  },
  {
   "cell_type": "code",
   "execution_count": 8,
   "id": "d360c49a-ccab-46b6-8c10-e0d658cd0772",
   "metadata": {},
   "outputs": [
    {
     "data": {
      "text/plain": [
       "array([[2, 2, 2, ..., 2, 2, 0],\n",
       "       [3, 2, 2, ..., 2, 3, 2],\n",
       "       [3, 3, 2, ..., 2, 2, 3],\n",
       "       ...,\n",
       "       [2, 2, 2, ..., 2, 2, 3],\n",
       "       [2, 2, 2, ..., 2, 2, 2],\n",
       "       [2, 2, 2, ..., 2, 2, 2]])"
      ]
     },
     "execution_count": 8,
     "metadata": {},
     "output_type": "execute_result"
    }
   ],
   "source": [
    "perm[states_copy[1]]"
   ]
  },
  {
   "cell_type": "code",
   "execution_count": 5,
   "id": "73a7cb9f-5345-4942-a58c-b33586979a63",
   "metadata": {},
   "outputs": [],
   "source": [
    "# np.save(\"states_460000.npy\", states)"
   ]
  },
  {
   "cell_type": "code",
   "execution_count": 6,
   "id": "b4ab8568-b822-4c0f-a54e-b8071feddd1c",
   "metadata": {},
   "outputs": [],
   "source": [
    "# np.save(\"rewards_460000.npy\", rewards)"
   ]
  },
  {
   "cell_type": "code",
   "execution_count": 10,
   "id": "8dda609d-ad19-4e75-b562-68b3ef305001",
   "metadata": {},
   "outputs": [],
   "source": [
    "np.save(\"states_100000.npy\", states)\n",
    "np.save(\"rewards_100000.npy\", rewards)"
   ]
  },
  {
   "cell_type": "code",
   "execution_count": 24,
   "id": "1ee2f328-d2ef-4e9f-87ef-27a7037d83a3",
   "metadata": {},
   "outputs": [],
   "source": [
    "np.save(f\"states_{NUM_STATES}.npy\", states)\n",
    "np.save(f\"rewards_{NUM_STATES}.npy\", rewards)\n",
    "np.save(f\"weights_{NUM_STATES}.npy\", weights)"
   ]
  },
  {
   "cell_type": "code",
   "execution_count": 25,
   "id": "c4dc2f97-7be0-4c93-9653-bee7d905303a",
   "metadata": {},
   "outputs": [],
   "source": [
    "NUM_STATES_TEST = 10100"
   ]
  },
  {
   "cell_type": "code",
   "execution_count": 26,
   "id": "f45a16e4-d4a1-4bb7-90dd-75a9227267d4",
   "metadata": {},
   "outputs": [],
   "source": [
    "np.save(f\"states_{NUM_STATES_TEST}.npy\", states[:NUM_STATES_TEST])\n",
    "np.save(f\"rewards_{NUM_STATES_TEST}.npy\", rewards[:NUM_STATES_TEST])\n",
    "np.save(f\"weights_{NUM_STATES_TEST}.npy\", weights[:NUM_STATES_TEST])"
   ]
  },
  {
   "cell_type": "code",
   "execution_count": 7,
   "id": "1573bcf3-3653-4e4b-a850-c03d1c61cc63",
   "metadata": {},
   "outputs": [],
   "source": [
    "np.save(\"states_4600.npy\", states[:4600])"
   ]
  },
  {
   "cell_type": "code",
   "execution_count": 8,
   "id": "8ab8d540-6623-4383-99c7-fcf4f38c3d01",
   "metadata": {},
   "outputs": [],
   "source": [
    "np.save(\"rewards_4600.npy\", rewards[:4600])"
   ]
  },
  {
   "cell_type": "code",
   "execution_count": 9,
   "id": "40f2869c-fd5f-454b-a619-f987bcbe17f4",
   "metadata": {},
   "outputs": [],
   "source": [
    "np.save(\"states_46000.npy\", states[:46000])"
   ]
  },
  {
   "cell_type": "code",
   "execution_count": 10,
   "id": "76473033-e485-4c6f-9143-eb4591446d34",
   "metadata": {},
   "outputs": [],
   "source": [
    "np.save(\"rewards_46000.npy\", rewards[:46000])"
   ]
  },
  {
   "cell_type": "code",
   "execution_count": 4,
   "id": "11142760-1392-4d68-a20a-110a99c7f674",
   "metadata": {},
   "outputs": [],
   "source": [
    "np.save(\"states_60000.npy\", states[:60000])"
   ]
  },
  {
   "cell_type": "code",
   "execution_count": 5,
   "id": "19b99709-8b93-4529-b0b9-fcd858b7279c",
   "metadata": {},
   "outputs": [],
   "source": [
    "np.save(\"rewards_60000.npy\", rewards[:60000])"
   ]
  },
  {
   "cell_type": "code",
   "execution_count": null,
   "id": "d1629a7f-8ed9-445c-bdb1-4e8b6c433fdf",
   "metadata": {},
   "outputs": [],
   "source": []
  },
  {
   "cell_type": "code",
   "execution_count": 12,
   "id": "50493911-43ed-4d1b-8bb5-b9cd89a7116e",
   "metadata": {},
   "outputs": [
    {
     "data": {
      "text/plain": [
       "(460000, 150, 25)"
      ]
     },
     "execution_count": 12,
     "metadata": {},
     "output_type": "execute_result"
    }
   ],
   "source": [
    "states.shape"
   ]
  },
  {
   "cell_type": "code",
   "execution_count": 15,
   "id": "a2bc53a7-47fd-4b2f-b008-60f8d38ee7d2",
   "metadata": {},
   "outputs": [
    {
     "data": {
      "text/plain": [
       "array([[3, 3, 3, ..., 1, 3, 3],\n",
       "       [3, 2, 1, ..., 3, 1, 3],\n",
       "       [3, 1, 1, ..., 1, 3, 3],\n",
       "       ...,\n",
       "       [3, 3, 3, ..., 3, 3, 3],\n",
       "       [3, 2, 3, ..., 3, 3, 3],\n",
       "       [3, 3, 3, ..., 3, 3, 3]])"
      ]
     },
     "execution_count": 15,
     "metadata": {},
     "output_type": "execute_result"
    }
   ],
   "source": [
    "states[:, :, 12]"
   ]
  }
 ],
 "metadata": {
  "kernelspec": {
   "display_name": "Python 3 (ipykernel)",
   "language": "python",
   "name": "python3"
  },
  "language_info": {
   "codemirror_mode": {
    "name": "ipython",
    "version": 3
   },
   "file_extension": ".py",
   "mimetype": "text/x-python",
   "name": "python",
   "nbconvert_exporter": "python",
   "pygments_lexer": "ipython3",
   "version": "3.9.12"
  }
 },
 "nbformat": 4,
 "nbformat_minor": 5
}
