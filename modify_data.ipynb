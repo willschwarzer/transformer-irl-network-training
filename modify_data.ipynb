{
 "cells": [
  {
   "cell_type": "code",
   "execution_count": 1,
   "id": "c18f0959-e2a2-459f-be4d-8291c19dc7dd",
   "metadata": {},
   "outputs": [],
   "source": [
    "import numpy as np\n",
    "from tqdm import tqdm"
   ]
  },
  {
   "cell_type": "code",
   "execution_count": 2,
   "id": "12318cd0-8325-4246-9f5d-195dc3f99878",
   "metadata": {},
   "outputs": [],
   "source": [
    "x = np.load(\"examples_new_460000.npy\", allow_pickle=True)"
   ]
  },
  {
   "cell_type": "code",
   "execution_count": 3,
   "id": "aa40446f-d0cf-4d78-a259-79046d954ddf",
   "metadata": {},
   "outputs": [
    {
     "name": "stderr",
     "output_type": "stream",
     "text": [
      "460000it [00:54, 8438.65it/s]\n"
     ]
    }
   ],
   "source": [
    "states = np.zeros([460000, 150, 25], dtype=int)\n",
    "rewards = np.zeros([460000, 150], dtype=float)\n",
    "for idx, example in tqdm(enumerate(x)):\n",
    "    data = example[\"data\"]\n",
    "    traj_states = np.zeros([150, 25], dtype=int)\n",
    "    traj_rewards = np.zeros([150], dtype=float)\n",
    "    for t in range(len(data)):\n",
    "        traj_states[t] = data[t][0]\n",
    "        traj_rewards[t] = data[t][1]\n",
    "    states[idx] = traj_states\n",
    "    rewards[idx] = traj_rewards"
   ]
  },
  {
   "cell_type": "code",
   "execution_count": 5,
   "id": "73a7cb9f-5345-4942-a58c-b33586979a63",
   "metadata": {},
   "outputs": [],
   "source": [
    "np.save(\"states_460000.npy\", states)"
   ]
  },
  {
   "cell_type": "code",
   "execution_count": 6,
   "id": "b4ab8568-b822-4c0f-a54e-b8071feddd1c",
   "metadata": {},
   "outputs": [],
   "source": [
    "np.save(\"rewards_460000.npy\", rewards)"
   ]
  },
  {
   "cell_type": "code",
   "execution_count": 7,
   "id": "1573bcf3-3653-4e4b-a850-c03d1c61cc63",
   "metadata": {},
   "outputs": [],
   "source": [
    "np.save(\"states_4600.npy\", states[:4600])"
   ]
  },
  {
   "cell_type": "code",
   "execution_count": 8,
   "id": "8ab8d540-6623-4383-99c7-fcf4f38c3d01",
   "metadata": {},
   "outputs": [],
   "source": [
    "np.save(\"rewards_4600.npy\", rewards[:4600])"
   ]
  },
  {
   "cell_type": "code",
   "execution_count": 9,
   "id": "40f2869c-fd5f-454b-a619-f987bcbe17f4",
   "metadata": {},
   "outputs": [],
   "source": [
    "np.save(\"states_46000.npy\", states[:46000])"
   ]
  },
  {
   "cell_type": "code",
   "execution_count": 10,
   "id": "76473033-e485-4c6f-9143-eb4591446d34",
   "metadata": {},
   "outputs": [],
   "source": [
    "np.save(\"rewards_46000.npy\", rewards[:46000])"
   ]
  },
  {
   "cell_type": "code",
   "execution_count": 4,
   "id": "11142760-1392-4d68-a20a-110a99c7f674",
   "metadata": {},
   "outputs": [],
   "source": [
    "np.save(\"states_60000.npy\", states[:60000])"
   ]
  },
  {
   "cell_type": "code",
   "execution_count": 5,
   "id": "19b99709-8b93-4529-b0b9-fcd858b7279c",
   "metadata": {},
   "outputs": [],
   "source": [
    "np.save(\"rewards_60000.npy\", rewards[:60000])"
   ]
  },
  {
   "cell_type": "code",
   "execution_count": null,
   "id": "d1629a7f-8ed9-445c-bdb1-4e8b6c433fdf",
   "metadata": {},
   "outputs": [],
   "source": []
  },
  {
   "cell_type": "code",
   "execution_count": 12,
   "id": "50493911-43ed-4d1b-8bb5-b9cd89a7116e",
   "metadata": {},
   "outputs": [
    {
     "data": {
      "text/plain": [
       "(460000, 150, 25)"
      ]
     },
     "execution_count": 12,
     "metadata": {},
     "output_type": "execute_result"
    }
   ],
   "source": [
    "states.shape"
   ]
  },
  {
   "cell_type": "code",
   "execution_count": 15,
   "id": "a2bc53a7-47fd-4b2f-b008-60f8d38ee7d2",
   "metadata": {},
   "outputs": [
    {
     "data": {
      "text/plain": [
       "array([[3, 3, 3, ..., 1, 3, 3],\n",
       "       [3, 2, 1, ..., 3, 1, 3],\n",
       "       [3, 1, 1, ..., 1, 3, 3],\n",
       "       ...,\n",
       "       [3, 3, 3, ..., 3, 3, 3],\n",
       "       [3, 2, 3, ..., 3, 3, 3],\n",
       "       [3, 3, 3, ..., 3, 3, 3]])"
      ]
     },
     "execution_count": 15,
     "metadata": {},
     "output_type": "execute_result"
    }
   ],
   "source": [
    "states[:, :, 12]"
   ]
  }
 ],
 "metadata": {
  "kernelspec": {
   "display_name": "Python 3 (ipykernel)",
   "language": "python",
   "name": "python3"
  },
  "language_info": {
   "codemirror_mode": {
    "name": "ipython",
    "version": 3
   },
   "file_extension": ".py",
   "mimetype": "text/x-python",
   "name": "python",
   "nbconvert_exporter": "python",
   "pygments_lexer": "ipython3",
   "version": "3.9.12"
  }
 },
 "nbformat": 4,
 "nbformat_minor": 5
}
