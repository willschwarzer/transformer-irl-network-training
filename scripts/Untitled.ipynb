{
 "cells": [
  {
   "cell_type": "code",
   "execution_count": 1,
   "id": "908298ae-9590-4373-af82-2e06e72a3093",
   "metadata": {},
   "outputs": [],
   "source": [
    "import jax\n",
    "from jax import jit"
   ]
  },
  {
   "cell_type": "code",
   "execution_count": 12,
   "id": "9e721236-2cc0-4052-b6d5-7a42df0736f0",
   "metadata": {},
   "outputs": [],
   "source": [
    "@jit\n",
    "def test(x, y):\n",
    "    return x, y"
   ]
  },
  {
   "cell_type": "code",
   "execution_count": 15,
   "id": "6970befa-8e72-46ee-940f-220298358178",
   "metadata": {},
   "outputs": [
    {
     "data": {
      "text/plain": [
       "(DeviceArray([1, 2, 3], dtype=int32),\n",
       " [DeviceArray(1, dtype=int32, weak_type=True),\n",
       "  DeviceArray(2, dtype=int32, weak_type=True),\n",
       "  DeviceArray(4, dtype=int32, weak_type=True)])"
      ]
     },
     "execution_count": 15,
     "metadata": {},
     "output_type": "execute_result"
    }
   ],
   "source": [
    "test(jax.numpy.array([1, 2, 3]), [1, 2, 4])"
   ]
  },
  {
   "cell_type": "code",
   "execution_count": 4,
   "id": "00b25d93-4348-4f1f-a22b-2b91b573547a",
   "metadata": {},
   "outputs": [
    {
     "data": {
      "text/plain": [
       "'gpu'"
      ]
     },
     "execution_count": 4,
     "metadata": {},
     "output_type": "execute_result"
    }
   ],
   "source": [
    "jax.default_backend()"
   ]
  },
  {
   "cell_type": "code",
   "execution_count": 8,
   "id": "f54d5e8b-17c0-405e-8e89-678f78534f05",
   "metadata": {},
   "outputs": [],
   "source": [
    "x = jax.numpy.array([1, 2, 3])"
   ]
  },
  {
   "cell_type": "code",
   "execution_count": null,
   "id": "65c66434-6792-4daa-93e3-5090d3bab693",
   "metadata": {},
   "outputs": [],
   "source": [
    "y = jax.random.PRNGKey(0)"
   ]
  },
  {
   "cell_type": "code",
   "execution_count": 4,
   "id": "1c2999fb-0a1b-466e-9600-c9b7d15ec797",
   "metadata": {},
   "outputs": [],
   "source": [
    "@jit\n",
    "def test(x):\n",
    "    x += 5\n",
    "    return x"
   ]
  },
  {
   "cell_type": "code",
   "execution_count": null,
   "id": "1601bc23-e25a-4949-8b55-0b17f1a90dbf",
   "metadata": {},
   "outputs": [],
   "source": [
    "x = test(x)"
   ]
  }
 ],
 "metadata": {
  "kernelspec": {
   "display_name": "jax",
   "language": "python",
   "name": "jax"
  },
  "language_info": {
   "codemirror_mode": {
    "name": "ipython",
    "version": 3
   },
   "file_extension": ".py",
   "mimetype": "text/x-python",
   "name": "python",
   "nbconvert_exporter": "python",
   "pygments_lexer": "ipython3",
   "version": "3.9.12"
  }
 },
 "nbformat": 4,
 "nbformat_minor": 5
}
