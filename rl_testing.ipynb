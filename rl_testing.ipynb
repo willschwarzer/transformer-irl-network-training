{
 "cells": [
  {
   "cell_type": "code",
   "execution_count": 2,
   "id": "f1706a8d-1763-4efe-b8e5-bed68ea12512",
   "metadata": {},
   "outputs": [],
   "source": [
    "import torch\n",
    "import numpy as np\n",
    "from utils import get_freest_gpu\n",
    "import torch.nn.functional as F"
   ]
  },
  {
   "cell_type": "code",
   "execution_count": 3,
   "id": "a9c1477d-faf1-490f-971d-283533524312",
   "metadata": {},
   "outputs": [],
   "source": [
    "from predict_transformer_nonlinear import NonLinearNet"
   ]
  },
  {
   "cell_type": "code",
   "execution_count": 4,
   "id": "28217d24-1eb8-474b-9294-822e8ea50a42",
   "metadata": {},
   "outputs": [
    {
     "data": {
      "text/plain": [
       "1"
      ]
     },
     "execution_count": 4,
     "metadata": {},
     "output_type": "execute_result"
    }
   ],
   "source": [
    "freest_gpu = get_freest_gpu()\n",
    "freest_gpu"
   ]
  },
  {
   "cell_type": "code",
   "execution_count": 9,
   "id": "f8a14648-ec8e-4269-a695-52bebdc4c45a",
   "metadata": {},
   "outputs": [],
   "source": [
    "torch.cuda.set_device(f'cuda:{freest_gpu}')"
   ]
  },
  {
   "cell_type": "code",
   "execution_count": 10,
   "id": "424ca1b9-1044-4e15-a431-ba1a3b375c66",
   "metadata": {},
   "outputs": [],
   "source": [
    "net = NonLinearNet(3, 3, 64, 64).cuda()"
   ]
  },
  {
   "cell_type": "code",
   "execution_count": 49,
   "id": "d39f1624-fad8-4f82-9069-5d34a016386a",
   "metadata": {},
   "outputs": [
    {
     "data": {
      "text/plain": [
       "<All keys matched successfully>"
      ]
     },
     "execution_count": 49,
     "metadata": {},
     "output_type": "execute_result"
    }
   ],
   "source": [
    "net.load_state_dict(torch.load('nonlinear_model.parameters'))"
   ]
  },
  {
   "cell_type": "code",
   "execution_count": 50,
   "id": "b0c28dbe-e464-4f9c-ac26-74fdeba69fbe",
   "metadata": {},
   "outputs": [],
   "source": [
    "traj_encoder = net.trajectory_encoder\n",
    "state_encoder = net.state_encoder"
   ]
  },
  {
   "cell_type": "code",
   "execution_count": 51,
   "id": "e63dced1-51d4-4797-b44c-0af18b003f48",
   "metadata": {},
   "outputs": [],
   "source": [
    "states = torch.Tensor(np.load('states_46000.npy')).to(torch.int64)\n",
    "states = F.one_hot(states, num_classes=4).view(-1, 150, 100).to(torch.float)"
   ]
  },
  {
   "cell_type": "code",
   "execution_count": 14,
   "id": "7540049c-3051-4abf-abad-4f18add09ded",
   "metadata": {},
   "outputs": [],
   "source": [
    "# states_unsqueezed = states.unsqueeze(0)"
   ]
  },
  {
   "cell_type": "code",
   "execution_count": 66,
   "id": "f2a37afe-8672-4a9d-83f7-c8fb38924520",
   "metadata": {},
   "outputs": [],
   "source": [
    "traj = states[30000]\n",
    "traj = traj.unsqueeze(0).cuda()"
   ]
  },
  {
   "cell_type": "code",
   "execution_count": 37,
   "id": "9b549f08-e4be-44c0-9395-df9a6816708a",
   "metadata": {
    "collapsed": true,
    "jupyter": {
     "outputs_hidden": true
    },
    "tags": []
   },
   "outputs": [
    {
     "data": {
      "text/plain": [
       "tensor([-0.5987, -0.3665, -0.2859, -0.1955,  0.0129, -0.1713,  0.0129,  0.0129,\n",
       "        -0.1713,  0.0129,  0.0129, -0.1713,  0.0129, -0.1713,  0.0129, -0.1713,\n",
       "         0.0129, -0.1713,  0.0129, -0.1713,  0.0129, -0.1713,  0.0129, -0.1713,\n",
       "         0.0129, -0.1713, -0.1713,  0.0129, -0.1713,  0.0129, -0.1713,  0.0129,\n",
       "        -0.1713,  0.0129,  0.0129,  0.0129, -0.0649,  0.0129, -0.1713, -0.1713,\n",
       "         0.0129, -0.1713,  0.0129,  0.0129, -0.0649,  0.0129, -0.1713,  0.0129,\n",
       "        -0.1713, -0.1713,  0.0129, -0.1713,  0.0129, -0.1713,  0.0129, -0.1713,\n",
       "         0.0129, -0.1713, -0.1713,  0.0129, -0.1713,  0.0129, -0.1713,  0.0129,\n",
       "        -0.1713,  0.0129, -0.1713,  0.0129, -0.1713,  0.0129, -0.1713,  0.0129,\n",
       "        -0.1713,  0.0129, -0.1713,  0.0129, -0.1713,  0.0129,  0.0129, -0.1713,\n",
       "         0.0129, -0.1713,  0.0129, -0.1713,  0.0129, -0.1713,  0.0129, -0.1713,\n",
       "         0.0129, -0.1713,  0.0129, -0.1713,  0.0129, -0.1713,  0.0129, -0.1713,\n",
       "         0.0129, -0.1713,  0.0129, -0.1713,  0.0129, -0.1713,  0.0129, -0.1713,\n",
       "         0.0129, -0.1713, -0.1713,  0.0129, -0.1713,  0.0129, -0.1713, -0.1713,\n",
       "        -0.3721, -0.1713,  0.0129, -0.1713,  0.0129, -0.1713,  0.0129, -0.1713,\n",
       "         0.0129, -0.1713,  0.0129, -0.1713,  0.0129, -0.1713,  0.0129, -0.1713,\n",
       "         0.0129,  0.0129, -0.1713,  0.0129, -0.1713, -0.1713,  0.0129, -0.1713,\n",
       "         0.0129, -0.1713,  0.0129, -0.1713,  0.0129, -0.1713,  0.0129, -0.1713,\n",
       "         0.0129, -0.1713, -0.1713,  0.0129, -0.1713,  0.0129], device='cuda:1',\n",
       "       grad_fn=<ViewBackward0>)"
      ]
     },
     "execution_count": 37,
     "metadata": {},
     "output_type": "execute_result"
    }
   ],
   "source": [
    "reward_est = net(traj, traj[0])\n",
    "reward_est"
   ]
  },
  {
   "cell_type": "code",
   "execution_count": 71,
   "id": "69172a1d-1c8c-4628-bde8-c010c489fa5c",
   "metadata": {},
   "outputs": [
    {
     "data": {
      "text/plain": [
       "tensor([2.9061, 3.6869, 3.2795], device='cuda:1', grad_fn=<AddBackward0>)"
      ]
     },
     "execution_count": 71,
     "metadata": {},
     "output_type": "execute_result"
    }
   ],
   "source": [
    "state_rep = state_encoder(traj[0][0])\n",
    "state_rep"
   ]
  },
  {
   "cell_type": "code",
   "execution_count": 68,
   "id": "e1e35766-c2d5-4baf-b978-545c7b3f83d7",
   "metadata": {
    "tags": []
   },
   "outputs": [
    {
     "data": {
      "text/plain": [
       "tensor([[[0., 0., 0., 1.],\n",
       "         [0., 0., 0., 1.],\n",
       "         [0., 0., 0., 1.],\n",
       "         [0., 0., 0., 1.],\n",
       "         [0., 0., 0., 1.]],\n",
       "\n",
       "        [[0., 1., 0., 0.],\n",
       "         [1., 0., 0., 0.],\n",
       "         [0., 0., 0., 1.],\n",
       "         [0., 0., 0., 1.],\n",
       "         [0., 0., 0., 1.]],\n",
       "\n",
       "        [[0., 0., 1., 0.],\n",
       "         [0., 0., 0., 1.],\n",
       "         [0., 1., 0., 0.],\n",
       "         [0., 1., 0., 0.],\n",
       "         [0., 0., 0., 1.]],\n",
       "\n",
       "        [[0., 0., 0., 1.],\n",
       "         [0., 0., 0., 1.],\n",
       "         [0., 0., 0., 1.],\n",
       "         [0., 0., 0., 1.],\n",
       "         [0., 0., 0., 1.]],\n",
       "\n",
       "        [[0., 0., 0., 1.],\n",
       "         [0., 0., 0., 1.],\n",
       "         [0., 0., 0., 1.],\n",
       "         [0., 0., 0., 1.],\n",
       "         [1., 0., 0., 0.]]], device='cuda:1')"
      ]
     },
     "execution_count": 68,
     "metadata": {},
     "output_type": "execute_result"
    }
   ],
   "source": [
    "traj[0][0].view(5, 5, 4)"
   ]
  },
  {
   "cell_type": "code",
   "execution_count": 60,
   "id": "56f13ebc-a21f-4935-8cbf-08c679d54805",
   "metadata": {
    "tags": []
   },
   "outputs": [
    {
     "data": {
      "text/plain": [
       "tensor([[1.0000, 0.9999, 1.0000]], device='cuda:1', grad_fn=<SigmoidBackward0>)"
      ]
     },
     "execution_count": 60,
     "metadata": {},
     "output_type": "execute_result"
    }
   ],
   "source": [
    "traj_rep = traj_encoder(traj)\n",
    "traj_rep"
   ]
  }
 ],
 "metadata": {
  "kernelspec": {
   "display_name": "Python 3 (ipykernel)",
   "language": "python",
   "name": "python3"
  },
  "language_info": {
   "codemirror_mode": {
    "name": "ipython",
    "version": 3
   },
   "file_extension": ".py",
   "mimetype": "text/x-python",
   "name": "python",
   "nbconvert_exporter": "python",
   "pygments_lexer": "ipython3",
   "version": "3.9.12"
  }
 },
 "nbformat": 4,
 "nbformat_minor": 5
}
