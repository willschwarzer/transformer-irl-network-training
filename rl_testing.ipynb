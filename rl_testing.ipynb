{
 "cells": [
  {
   "cell_type": "code",
   "execution_count": 1,
   "id": "f1706a8d-1763-4efe-b8e5-bed68ea12512",
   "metadata": {},
   "outputs": [],
   "source": [
    "import torch\n",
    "import numpy as np\n",
    "from utils import get_freest_gpu\n",
    "import torch.nn.functional as F"
   ]
  },
  {
   "cell_type": "code",
   "execution_count": 2,
   "id": "a9c1477d-faf1-490f-971d-283533524312",
   "metadata": {},
   "outputs": [],
   "source": [
    "from predict_transformer_nonlinear import NonLinearNet"
   ]
  },
  {
   "cell_type": "code",
   "execution_count": 3,
   "id": "28217d24-1eb8-474b-9294-822e8ea50a42",
   "metadata": {},
   "outputs": [
    {
     "data": {
      "text/plain": [
       "1"
      ]
     },
     "execution_count": 3,
     "metadata": {},
     "output_type": "execute_result"
    }
   ],
   "source": [
    "freest_gpu = get_freest_gpu()\n",
    "freest_gpu"
   ]
  },
  {
   "cell_type": "code",
   "execution_count": 4,
   "id": "f8a14648-ec8e-4269-a695-52bebdc4c45a",
   "metadata": {},
   "outputs": [],
   "source": [
    "torch.cuda.set_device(f'cuda:{freest_gpu}')"
   ]
  },
  {
   "cell_type": "code",
   "execution_count": 33,
   "id": "424ca1b9-1044-4e15-a431-ba1a3b375c66",
   "metadata": {},
   "outputs": [],
   "source": [
    "net = NonLinearNet(3, 3, 64, 64, mlp=True).cuda()"
   ]
  },
  {
   "cell_type": "code",
   "execution_count": 34,
   "id": "d39f1624-fad8-4f82-9069-5d34a016386a",
   "metadata": {},
   "outputs": [
    {
     "ename": "RuntimeError",
     "evalue": "Error(s) in loading state_dict for NonLinearNet:\n\tMissing key(s) in state_dict: \"reward_layer.linear1.weight\", \"reward_layer.linear1.bias\", \"reward_layer.linear2.weight\", \"reward_layer.linear2.bias\". ",
     "output_type": "error",
     "traceback": [
      "\u001b[0;31m---------------------------------------------------------------------------\u001b[0m",
      "\u001b[0;31mRuntimeError\u001b[0m                              Traceback (most recent call last)",
      "Input \u001b[0;32mIn [34]\u001b[0m, in \u001b[0;36m<cell line: 1>\u001b[0;34m()\u001b[0m\n\u001b[0;32m----> 1\u001b[0m \u001b[43mnet\u001b[49m\u001b[38;5;241;43m.\u001b[39;49m\u001b[43mload_state_dict\u001b[49m\u001b[43m(\u001b[49m\u001b[43mtorch\u001b[49m\u001b[38;5;241;43m.\u001b[39;49m\u001b[43mload\u001b[49m\u001b[43m(\u001b[49m\u001b[38;5;124;43m'\u001b[39;49m\u001b[38;5;124;43mproper_split_mlp.parameters\u001b[39;49m\u001b[38;5;124;43m'\u001b[39;49m\u001b[43m)\u001b[49m\u001b[43m)\u001b[49m\n",
      "File \u001b[0;32m~/anaconda3/lib/python3.9/site-packages/torch/nn/modules/module.py:1497\u001b[0m, in \u001b[0;36mModule.load_state_dict\u001b[0;34m(self, state_dict, strict)\u001b[0m\n\u001b[1;32m   1492\u001b[0m         error_msgs\u001b[38;5;241m.\u001b[39minsert(\n\u001b[1;32m   1493\u001b[0m             \u001b[38;5;241m0\u001b[39m, \u001b[38;5;124m'\u001b[39m\u001b[38;5;124mMissing key(s) in state_dict: \u001b[39m\u001b[38;5;132;01m{}\u001b[39;00m\u001b[38;5;124m. \u001b[39m\u001b[38;5;124m'\u001b[39m\u001b[38;5;241m.\u001b[39mformat(\n\u001b[1;32m   1494\u001b[0m                 \u001b[38;5;124m'\u001b[39m\u001b[38;5;124m, \u001b[39m\u001b[38;5;124m'\u001b[39m\u001b[38;5;241m.\u001b[39mjoin(\u001b[38;5;124m'\u001b[39m\u001b[38;5;124m\"\u001b[39m\u001b[38;5;132;01m{}\u001b[39;00m\u001b[38;5;124m\"\u001b[39m\u001b[38;5;124m'\u001b[39m\u001b[38;5;241m.\u001b[39mformat(k) \u001b[38;5;28;01mfor\u001b[39;00m k \u001b[38;5;129;01min\u001b[39;00m missing_keys)))\n\u001b[1;32m   1496\u001b[0m \u001b[38;5;28;01mif\u001b[39;00m \u001b[38;5;28mlen\u001b[39m(error_msgs) \u001b[38;5;241m>\u001b[39m \u001b[38;5;241m0\u001b[39m:\n\u001b[0;32m-> 1497\u001b[0m     \u001b[38;5;28;01mraise\u001b[39;00m \u001b[38;5;167;01mRuntimeError\u001b[39;00m(\u001b[38;5;124m'\u001b[39m\u001b[38;5;124mError(s) in loading state_dict for \u001b[39m\u001b[38;5;132;01m{}\u001b[39;00m\u001b[38;5;124m:\u001b[39m\u001b[38;5;130;01m\\n\u001b[39;00m\u001b[38;5;130;01m\\t\u001b[39;00m\u001b[38;5;132;01m{}\u001b[39;00m\u001b[38;5;124m'\u001b[39m\u001b[38;5;241m.\u001b[39mformat(\n\u001b[1;32m   1498\u001b[0m                        \u001b[38;5;28mself\u001b[39m\u001b[38;5;241m.\u001b[39m\u001b[38;5;18m__class__\u001b[39m\u001b[38;5;241m.\u001b[39m\u001b[38;5;18m__name__\u001b[39m, \u001b[38;5;124m\"\u001b[39m\u001b[38;5;130;01m\\n\u001b[39;00m\u001b[38;5;130;01m\\t\u001b[39;00m\u001b[38;5;124m\"\u001b[39m\u001b[38;5;241m.\u001b[39mjoin(error_msgs)))\n\u001b[1;32m   1499\u001b[0m \u001b[38;5;28;01mreturn\u001b[39;00m _IncompatibleKeys(missing_keys, unexpected_keys)\n",
      "\u001b[0;31mRuntimeError\u001b[0m: Error(s) in loading state_dict for NonLinearNet:\n\tMissing key(s) in state_dict: \"reward_layer.linear1.weight\", \"reward_layer.linear1.bias\", \"reward_layer.linear2.weight\", \"reward_layer.linear2.bias\". "
     ]
    }
   ],
   "source": [
    "net.load_state_dict(torch.load('proper_split_mlp.parameters'))"
   ]
  },
  {
   "cell_type": "code",
   "execution_count": 7,
   "id": "b0c28dbe-e464-4f9c-ac26-74fdeba69fbe",
   "metadata": {},
   "outputs": [],
   "source": [
    "traj_encoder = net.trajectory_encoder\n",
    "state_encoder = net.state_encoder"
   ]
  },
  {
   "cell_type": "code",
   "execution_count": 8,
   "id": "e63dced1-51d4-4797-b44c-0af18b003f48",
   "metadata": {},
   "outputs": [],
   "source": [
    "states = torch.Tensor(np.load('states_46000.npy')).to(torch.int64)\n",
    "states = F.one_hot(states, num_classes=4).view(-1, 150, 100).to(torch.float)"
   ]
  },
  {
   "cell_type": "code",
   "execution_count": 14,
   "id": "7540049c-3051-4abf-abad-4f18add09ded",
   "metadata": {},
   "outputs": [],
   "source": [
    "# states_unsqueezed = states.unsqueeze(0)"
   ]
  },
  {
   "cell_type": "code",
   "execution_count": 30,
   "id": "f2a37afe-8672-4a9d-83f7-c8fb38924520",
   "metadata": {},
   "outputs": [],
   "source": [
    "traj = states[10002]\n",
    "traj = traj.unsqueeze(0).cuda()"
   ]
  },
  {
   "cell_type": "code",
   "execution_count": 31,
   "id": "9b549f08-e4be-44c0-9395-df9a6816708a",
   "metadata": {
    "collapsed": true,
    "jupyter": {
     "outputs_hidden": true
    },
    "tags": []
   },
   "outputs": [
    {
     "data": {
      "text/plain": [
       "tensor([ 0.2230,  0.2037,  0.2037, -0.1705,  0.2037, -0.1705,  0.2037,  0.2037,\n",
       "        -0.1705,  0.2037,  0.2037, -0.1705,  0.2037,  0.2037,  0.2037,  0.2037,\n",
       "        -0.1705,  0.2037,  0.2230,  0.2037,  0.2037, -0.1705,  0.2037,  0.2037,\n",
       "         0.2037, -0.1705,  0.2037, -0.1705,  0.2037,  0.2037, -0.1705,  0.2037,\n",
       "        -0.1705,  0.2037,  0.0478, -0.0335,  0.4984, -0.0335,  0.2230,  0.2037,\n",
       "         0.2037,  0.2230,  0.2037,  0.2037,  0.0478, -0.0335,  0.0478, -0.0335,\n",
       "         0.0478,  0.0478, -0.0335,  0.0478, -0.0335,  0.0478,  0.0478, -0.0335,\n",
       "         0.0478, -0.0335,  0.0478, -0.0335,  0.2230,  0.2037,  0.2230,  0.2037,\n",
       "         0.2230,  0.2037,  0.0478, -0.0335,  0.0478, -0.0335,  0.0478,  0.0478,\n",
       "         0.0478, -0.0335,  0.0478, -0.0335,  0.0478, -0.0335,  0.0478, -0.0335,\n",
       "         0.0478, -0.0335,  0.0478, -0.0335,  0.0478, -0.0335,  0.0478, -0.0335,\n",
       "        -0.0335,  0.0478, -0.0335,  0.0478, -0.0335,  0.0478,  0.0478, -0.0335,\n",
       "         0.2230,  0.2037, -0.1705,  0.2037,  0.2037, -0.1705,  0.2037,  0.2037,\n",
       "         0.2037,  0.2037, -0.1705,  0.2037,  0.2037,  0.2037,  0.2230,  0.2037,\n",
       "        -0.1705, -0.1705,  0.2037,  0.2037,  0.2037, -0.1705,  0.2037,  0.2037,\n",
       "        -0.1705,  0.2037,  0.2037,  0.2037,  0.2037, -0.1705,  0.2037, -0.1705,\n",
       "         0.2037,  0.2037, -0.1705,  0.2037,  0.2037,  0.2037,  0.2037, -0.1705,\n",
       "         0.2037,  0.2037,  0.2230,  0.2037,  0.2230,  0.2037, -0.1705,  0.2037,\n",
       "        -0.1705,  0.2037, -0.1705,  0.2037, -0.1705,  0.2037], device='cuda:1',\n",
       "       grad_fn=<ViewBackward0>)"
      ]
     },
     "execution_count": 31,
     "metadata": {},
     "output_type": "execute_result"
    }
   ],
   "source": [
    "reward_est = net(traj, traj[0])\n",
    "reward_est"
   ]
  },
  {
   "cell_type": "code",
   "execution_count": 15,
   "id": "69172a1d-1c8c-4628-bde8-c010c489fa5c",
   "metadata": {},
   "outputs": [
    {
     "data": {
      "text/plain": [
       "tensor([ 0.2969, -0.0962, -0.2074], device='cuda:1', grad_fn=<AddBackward0>)"
      ]
     },
     "execution_count": 15,
     "metadata": {},
     "output_type": "execute_result"
    }
   ],
   "source": [
    "state_rep = state_encoder(traj[0][0])\n",
    "state_rep"
   ]
  },
  {
   "cell_type": "code",
   "execution_count": 16,
   "id": "e1e35766-c2d5-4baf-b978-545c7b3f83d7",
   "metadata": {
    "collapsed": true,
    "jupyter": {
     "outputs_hidden": true
    },
    "tags": []
   },
   "outputs": [
    {
     "data": {
      "text/plain": [
       "tensor([[[1., 0., 0., 0.],\n",
       "         [1., 0., 0., 0.],\n",
       "         [0., 0., 0., 1.],\n",
       "         [0., 0., 0., 1.],\n",
       "         [0., 0., 0., 1.]],\n",
       "\n",
       "        [[0., 0., 0., 1.],\n",
       "         [0., 0., 0., 1.],\n",
       "         [0., 0., 0., 1.],\n",
       "         [0., 0., 0., 1.],\n",
       "         [0., 0., 0., 1.]],\n",
       "\n",
       "        [[0., 0., 0., 1.],\n",
       "         [0., 0., 0., 1.],\n",
       "         [0., 0., 0., 1.],\n",
       "         [0., 0., 0., 1.],\n",
       "         [0., 0., 0., 1.]],\n",
       "\n",
       "        [[1., 0., 0., 0.],\n",
       "         [0., 0., 0., 1.],\n",
       "         [1., 0., 0., 0.],\n",
       "         [0., 0., 0., 1.],\n",
       "         [0., 0., 0., 1.]],\n",
       "\n",
       "        [[0., 0., 0., 1.],\n",
       "         [0., 0., 0., 1.],\n",
       "         [0., 0., 0., 1.],\n",
       "         [1., 0., 0., 0.],\n",
       "         [0., 0., 0., 1.]]], device='cuda:1')"
      ]
     },
     "execution_count": 16,
     "metadata": {},
     "output_type": "execute_result"
    }
   ],
   "source": [
    "traj[0][0].view(5, 5, 4)"
   ]
  },
  {
   "cell_type": "code",
   "execution_count": 27,
   "id": "56f13ebc-a21f-4935-8cbf-08c679d54805",
   "metadata": {
    "tags": []
   },
   "outputs": [
    {
     "data": {
      "text/plain": [
       "tensor([[1., 1., 1.]], device='cuda:1', grad_fn=<SigmoidBackward0>)"
      ]
     },
     "execution_count": 27,
     "metadata": {},
     "output_type": "execute_result"
    }
   ],
   "source": [
    "traj_rep = traj_encoder(traj)\n",
    "traj_rep"
   ]
  },
  {
   "cell_type": "code",
   "execution_count": 32,
   "id": "e967a13d-184f-4704-9ea0-3f76b95c3c1d",
   "metadata": {},
   "outputs": [
    {
     "ename": "AttributeError",
     "evalue": "'NonLinearNet' object has no attribute 'reward_layer'",
     "output_type": "error",
     "traceback": [
      "\u001b[0;31m---------------------------------------------------------------------------\u001b[0m",
      "\u001b[0;31mAttributeError\u001b[0m                            Traceback (most recent call last)",
      "Input \u001b[0;32mIn [32]\u001b[0m, in \u001b[0;36m<cell line: 1>\u001b[0;34m()\u001b[0m\n\u001b[0;32m----> 1\u001b[0m reward_layer \u001b[38;5;241m=\u001b[39m \u001b[43mnet\u001b[49m\u001b[38;5;241;43m.\u001b[39;49m\u001b[43mreward_layer\u001b[49m\n",
      "File \u001b[0;32m~/anaconda3/lib/python3.9/site-packages/torch/nn/modules/module.py:1185\u001b[0m, in \u001b[0;36mModule.__getattr__\u001b[0;34m(self, name)\u001b[0m\n\u001b[1;32m   1183\u001b[0m     \u001b[38;5;28;01mif\u001b[39;00m name \u001b[38;5;129;01min\u001b[39;00m modules:\n\u001b[1;32m   1184\u001b[0m         \u001b[38;5;28;01mreturn\u001b[39;00m modules[name]\n\u001b[0;32m-> 1185\u001b[0m \u001b[38;5;28;01mraise\u001b[39;00m \u001b[38;5;167;01mAttributeError\u001b[39;00m(\u001b[38;5;124m\"\u001b[39m\u001b[38;5;124m'\u001b[39m\u001b[38;5;132;01m{}\u001b[39;00m\u001b[38;5;124m'\u001b[39m\u001b[38;5;124m object has no attribute \u001b[39m\u001b[38;5;124m'\u001b[39m\u001b[38;5;132;01m{}\u001b[39;00m\u001b[38;5;124m'\u001b[39m\u001b[38;5;124m\"\u001b[39m\u001b[38;5;241m.\u001b[39mformat(\n\u001b[1;32m   1186\u001b[0m     \u001b[38;5;28mtype\u001b[39m(\u001b[38;5;28mself\u001b[39m)\u001b[38;5;241m.\u001b[39m\u001b[38;5;18m__name__\u001b[39m, name))\n",
      "\u001b[0;31mAttributeError\u001b[0m: 'NonLinearNet' object has no attribute 'reward_layer'"
     ]
    }
   ],
   "source": [
    "reward_layer = net.reward_layer"
   ]
  }
 ],
 "metadata": {
  "kernelspec": {
   "display_name": "Python 3 (ipykernel)",
   "language": "python",
   "name": "python3"
  },
  "language_info": {
   "codemirror_mode": {
    "name": "ipython",
    "version": 3
   },
   "file_extension": ".py",
   "mimetype": "text/x-python",
   "name": "python",
   "nbconvert_exporter": "python",
   "pygments_lexer": "ipython3",
   "version": "3.9.12"
  }
 },
 "nbformat": 4,
 "nbformat_minor": 5
}
