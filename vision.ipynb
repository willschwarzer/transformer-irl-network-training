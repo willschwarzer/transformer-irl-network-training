{
 "cells": [
  {
   "cell_type": "code",
   "execution_count": 1,
   "id": "e24849c2-06f4-4f37-a37d-f0f7fa056412",
   "metadata": {},
   "outputs": [],
   "source": [
    "from torchvision.models import resnet50, ResNet50_Weights, efficientnet_b1, EfficientNet_B1_Weights\n",
    "import torchvision\n",
    "import torch"
   ]
  },
  {
   "cell_type": "code",
   "execution_count": 2,
   "id": "ef247cd9-4a71-4ac5-874c-9966e9617727",
   "metadata": {},
   "outputs": [],
   "source": [
    "weights = EfficientNet_B1_Weights.DEFAULT"
   ]
  },
  {
   "cell_type": "code",
   "execution_count": 3,
   "id": "37f86c94-e428-41dd-9c05-4f56de3ebce9",
   "metadata": {},
   "outputs": [],
   "source": [
    "transforms = torchvision.transforms.Compose([torchvision.transforms.Grayscale(num_output_channels=3),\n",
    "                                             weights.transforms()])"
   ]
  },
  {
   "cell_type": "code",
   "execution_count": 4,
   "id": "5c5708d3-9b20-4a46-bfcb-7bca09c69532",
   "metadata": {
    "tags": []
   },
   "outputs": [],
   "source": [
    "f = efficientnet_b1(weights=EfficientNet_B1_Weights.DEFAULT).cuda()"
   ]
  },
  {
   "cell_type": "code",
   "execution_count": 9,
   "id": "ed813261-e639-49db-8dda-c7352e5935f4",
   "metadata": {},
   "outputs": [],
   "source": [
    "imagenet_data = torchvision.datasets.MNIST('~/transformer-irl-network-training/data/mnist',\n",
    "                                          transform=transforms)\n",
    "data_loader = torch.utils.data.DataLoader(imagenet_data,\n",
    "                                          batch_size=128,\n",
    "                                          shuffle=True,\n",
    "                                          num_workers=1)"
   ]
  },
  {
   "cell_type": "code",
   "execution_count": 10,
   "id": "21b50149-d7f8-404d-8691-efbae94d40bb",
   "metadata": {},
   "outputs": [],
   "source": [
    "for i in data_loader:\n",
    "    x = i\n",
    "    x[0] = x[0].cuda()\n",
    "    break"
   ]
  },
  {
   "cell_type": "code",
   "execution_count": 11,
   "id": "83ab73ad-c5b4-4feb-aa40-dc7c1b933d83",
   "metadata": {
    "tags": []
   },
   "outputs": [
    {
     "name": "stdout",
     "output_type": "stream",
     "text": [
      "12.7577064037323\n"
     ]
    }
   ],
   "source": [
    "import time\n",
    "\n",
    "start = time.time()\n",
    "for j in range(100):\n",
    "    f(x[0]).shape\n",
    "print(time.time() - start)"
   ]
  },
  {
   "cell_type": "code",
   "execution_count": 28,
   "id": "f05fa4bf-53c5-428b-890e-bbc23d95769b",
   "metadata": {},
   "outputs": [
    {
     "data": {
      "text/plain": [
       "torch.Size([4, 1000])"
      ]
     },
     "execution_count": 28,
     "metadata": {},
     "output_type": "execute_result"
    }
   ],
   "source": [
    "f(i[0]).shape"
   ]
  },
  {
   "cell_type": "code",
   "execution_count": 5,
   "id": "4fe92b73-eedf-439b-8ce7-9121e6b584af",
   "metadata": {},
   "outputs": [],
   "source": [
    "def get_features(name):\n",
    "    def hook(model, input, output):\n",
    "        features[name] = output.detach()\n",
    "    return hook"
   ]
  },
  {
   "cell_type": "code",
   "execution_count": 6,
   "id": "937efe9a-8060-4d77-8d97-1524630aac27",
   "metadata": {},
   "outputs": [
    {
     "data": {
      "text/plain": [
       "<torch.utils.hooks.RemovableHandle at 0x7f4872748370>"
      ]
     },
     "execution_count": 6,
     "metadata": {},
     "output_type": "execute_result"
    }
   ],
   "source": [
    "f.features.register_forward_hook(get_features('feats'))"
   ]
  },
  {
   "cell_type": "code",
   "execution_count": 7,
   "id": "8686f71a-9322-4249-9698-0fc21abf286b",
   "metadata": {},
   "outputs": [],
   "source": [
    "features={}"
   ]
  },
  {
   "cell_type": "code",
   "execution_count": 10,
   "id": "df8101ca-c6d2-49d4-8c73-29d0cb4b3d0d",
   "metadata": {},
   "outputs": [
    {
     "data": {
      "text/plain": [
       "tensor([[ 0.1853,  0.8898,  0.3749,  ...,  0.0249,  0.9880, -0.5902],\n",
       "        [ 0.8724, -0.5990, -0.4834,  ...,  0.0452, -1.2753, -0.4145],\n",
       "        [-1.1207, -1.0107, -0.1957,  ..., -0.7642, -0.5533,  0.7597],\n",
       "        [ 1.0178,  0.1319, -0.7920,  ...,  1.6309,  1.5712,  1.2303]],\n",
       "       grad_fn=<AddmmBackward0>)"
      ]
     },
     "execution_count": 10,
     "metadata": {},
     "output_type": "execute_result"
    }
   ],
   "source": [
    "f(i[0])"
   ]
  },
  {
   "cell_type": "code",
   "execution_count": 11,
   "id": "a3ecabf7-16fa-4c73-b460-9848b8cfb70f",
   "metadata": {},
   "outputs": [
    {
     "data": {
      "text/plain": [
       "torch.Size([4, 1280, 8, 8])"
      ]
     },
     "execution_count": 11,
     "metadata": {},
     "output_type": "execute_result"
    }
   ],
   "source": [
    "features['feats'].shape"
   ]
  }
 ],
 "metadata": {
  "kernelspec": {
   "display_name": "vision2",
   "language": "python",
   "name": "vision2"
  },
  "language_info": {
   "codemirror_mode": {
    "name": "ipython",
    "version": 3
   },
   "file_extension": ".py",
   "mimetype": "text/x-python",
   "name": "python",
   "nbconvert_exporter": "python",
   "pygments_lexer": "ipython3",
   "version": "3.9.16"
  }
 },
 "nbformat": 4,
 "nbformat_minor": 5
}
