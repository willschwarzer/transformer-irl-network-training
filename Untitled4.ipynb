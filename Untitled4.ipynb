{
 "cells": [
  {
   "cell_type": "code",
   "execution_count": 1,
   "id": "ec26834f-d902-439c-9920-5998e7bcd7fd",
   "metadata": {},
   "outputs": [],
   "source": [
    "from object_env import ObjectEnv\n",
    "# import stable_baselines3\n",
    "from numpy import random\n",
    "import jax.numpy as jnp"
   ]
  },
  {
   "cell_type": "code",
   "execution_count": 2,
   "id": "c9e46e0c-8f7a-4c19-a149-65c301bfc7c7",
   "metadata": {},
   "outputs": [
    {
     "name": "stdout",
     "output_type": "stream",
     "text": [
      "None\n"
     ]
    }
   ],
   "source": [
    "import os\n",
    "print(os.environ.get('CUDA_PATH'))"
   ]
  },
  {
   "cell_type": "code",
   "execution_count": 3,
   "id": "b61fa628-564a-49af-ba3e-e6b0ef656d3e",
   "metadata": {},
   "outputs": [],
   "source": [
    "seed = random.randint(10000)"
   ]
  },
  {
   "cell_type": "code",
   "execution_count": null,
   "id": "25548b1b-d03c-4a4a-bc91-14fbcbea097c",
   "metadata": {},
   "outputs": [],
   "source": [
    "env = ObjectEnv([1, 0, -1], seed=seed)"
   ]
  },
  {
   "cell_type": "code",
   "execution_count": 4,
   "id": "fb709385-82a8-456a-825e-b10fcd0e3e6f",
   "metadata": {},
   "outputs": [
    {
     "data": {
      "text/plain": [
       "DeviceArray([[ 0.17328572, -0.9378872 ],\n",
       "             [-0.8082588 , -0.9180548 ],\n",
       "             [ 0.880074  , -0.34809542]], dtype=float32)"
      ]
     },
     "execution_count": 4,
     "metadata": {},
     "output_type": "execute_result"
    }
   ],
   "source": [
    "env.state"
   ]
  },
  {
   "cell_type": "code",
   "execution_count": 56,
   "id": "6eaa1994-b371-4977-884a-e5e9b7c106f3",
   "metadata": {},
   "outputs": [],
   "source": [
    "# env.expanded_block_rewards\n",
    "\n",
    "# env._get_reward(env.state, env.expanded_block_rewards)\n",
    "\n",
    "# action = jnp.array([0.005, 0, 0, 0, -3, -10])\n",
    "\n",
    "# env.state = env._next_state(env.state, action, (-100, 100))\n",
    "\n",
    "# env.state\n",
    "\n",
    "# env._get_reward(env.state, env.expanded_block_rewards)"
   ]
  },
  {
   "cell_type": "code",
   "execution_count": 8,
   "id": "e58d11ef-06fe-431c-93a6-a37c20c853f0",
   "metadata": {},
   "outputs": [
    {
     "ename": "TypeError",
     "evalue": "PRNGKey() missing 1 required positional argument: 'seed'",
     "output_type": "error",
     "traceback": [
      "\u001b[0;31m---------------------------------------------------------------------------\u001b[0m",
      "\u001b[0;31mTypeError\u001b[0m                                 Traceback (most recent call last)",
      "Input \u001b[0;32mIn [8]\u001b[0m, in \u001b[0;36m<cell line: 2>\u001b[0;34m()\u001b[0m\n\u001b[1;32m      1\u001b[0m \u001b[38;5;28;01mimport\u001b[39;00m \u001b[38;5;21;01mjax\u001b[39;00m\u001b[38;5;21;01m.\u001b[39;00m\u001b[38;5;21;01mrandom\u001b[39;00m\n\u001b[0;32m----> 2\u001b[0m \u001b[43mjax\u001b[49m\u001b[38;5;241;43m.\u001b[39;49m\u001b[43mrandom\u001b[49m\u001b[38;5;241;43m.\u001b[39;49m\u001b[43mPRNGKey\u001b[49m\u001b[43m(\u001b[49m\u001b[43m)\u001b[49m\n",
      "\u001b[0;31mTypeError\u001b[0m: PRNGKey() missing 1 required positional argument: 'seed'"
     ]
    }
   ],
   "source": [
    "import jax.random\n",
    "jax.random.PRNGKey()"
   ]
  },
  {
   "cell_type": "code",
   "execution_count": 3,
   "id": "c1f50b10-0cbf-4b10-832d-7dbeb09160d8",
   "metadata": {},
   "outputs": [
    {
     "name": "stdout",
     "output_type": "stream",
     "text": [
      "Using cuda device\n",
      "Wrapping the env with a `Monitor` wrapper\n",
      "Wrapping the env in a DummyVecEnv.\n"
     ]
    }
   ],
   "source": [
    "model = stable_baselines3.PPO(\"MlpPolicy\", env, verbose=1)"
   ]
  },
  {
   "cell_type": "code",
   "execution_count": 4,
   "id": "0e65a0db-dce3-4537-b89a-ca708b5cc484",
   "metadata": {},
   "outputs": [
    {
     "name": "stdout",
     "output_type": "stream",
     "text": [
      "------------------------------------\n",
      "| rollout/           |             |\n",
      "|    ep_len_mean     | 1           |\n",
      "|    ep_rew_mean     | -0.00106629 |\n",
      "| time/              |             |\n",
      "|    fps             | 200         |\n",
      "|    iterations      | 1           |\n",
      "|    time_elapsed    | 10          |\n",
      "|    total_timesteps | 2048        |\n",
      "------------------------------------\n",
      "-----------------------------------------\n",
      "| rollout/                |             |\n",
      "|    ep_len_mean          | 1           |\n",
      "|    ep_rew_mean          | 0.00640519  |\n",
      "| time/                   |             |\n",
      "|    fps                  | 164         |\n",
      "|    iterations           | 2           |\n",
      "|    time_elapsed         | 24          |\n",
      "|    total_timesteps      | 4096        |\n",
      "| train/                  |             |\n",
      "|    approx_kl            | 0.011278738 |\n",
      "|    clip_fraction        | 0.113       |\n",
      "|    clip_range           | 0.2         |\n",
      "|    entropy_loss         | -8.52       |\n",
      "|    explained_variance   | -13.2       |\n",
      "|    learning_rate        | 0.0003      |\n",
      "|    loss                 | -0.0371     |\n",
      "|    n_updates            | 10          |\n",
      "|    policy_gradient_loss | -0.0266     |\n",
      "|    std                  | 1           |\n",
      "|    value_loss           | 0.071       |\n",
      "-----------------------------------------\n",
      "------------------------------------------\n",
      "| rollout/                |              |\n",
      "|    ep_len_mean          | 1            |\n",
      "|    ep_rew_mean          | 0.0015114598 |\n",
      "| time/                   |              |\n",
      "|    fps                  | 146          |\n",
      "|    iterations           | 3            |\n",
      "|    time_elapsed         | 41           |\n",
      "|    total_timesteps      | 6144         |\n",
      "| train/                  |              |\n",
      "|    approx_kl            | 0.012136353  |\n",
      "|    clip_fraction        | 0.106        |\n",
      "|    clip_range           | 0.2          |\n",
      "|    entropy_loss         | -8.52        |\n",
      "|    explained_variance   | -38.2        |\n",
      "|    learning_rate        | 0.0003       |\n",
      "|    loss                 | -0.0453      |\n",
      "|    n_updates            | 20           |\n",
      "|    policy_gradient_loss | -0.0321      |\n",
      "|    std                  | 1            |\n",
      "|    value_loss           | 0.0195       |\n",
      "------------------------------------------\n",
      "-------------------------------------------\n",
      "| rollout/                |               |\n",
      "|    ep_len_mean          | 1             |\n",
      "|    ep_rew_mean          | 0.00017306967 |\n",
      "| time/                   |               |\n",
      "|    fps                  | 125           |\n",
      "|    iterations           | 4             |\n",
      "|    time_elapsed         | 65            |\n",
      "|    total_timesteps      | 8192          |\n",
      "| train/                  |               |\n",
      "|    approx_kl            | 0.010934919   |\n",
      "|    clip_fraction        | 0.106         |\n",
      "|    clip_range           | 0.2           |\n",
      "|    entropy_loss         | -8.49         |\n",
      "|    explained_variance   | -13.1         |\n",
      "|    learning_rate        | 0.0003        |\n",
      "|    loss                 | -0.0564       |\n",
      "|    n_updates            | 30            |\n",
      "|    policy_gradient_loss | -0.0375       |\n",
      "|    std                  | 0.994         |\n",
      "|    value_loss           | 0.0127        |\n",
      "-------------------------------------------\n",
      "-----------------------------------------\n",
      "| rollout/                |             |\n",
      "|    ep_len_mean          | 1           |\n",
      "|    ep_rew_mean          | 0.00226322  |\n",
      "| time/                   |             |\n",
      "|    fps                  | 117         |\n",
      "|    iterations           | 5           |\n",
      "|    time_elapsed         | 87          |\n",
      "|    total_timesteps      | 10240       |\n",
      "| train/                  |             |\n",
      "|    approx_kl            | 0.012435257 |\n",
      "|    clip_fraction        | 0.131       |\n",
      "|    clip_range           | 0.2         |\n",
      "|    entropy_loss         | -8.47       |\n",
      "|    explained_variance   | -15.6       |\n",
      "|    learning_rate        | 0.0003      |\n",
      "|    loss                 | -0.0478     |\n",
      "|    n_updates            | 40          |\n",
      "|    policy_gradient_loss | -0.0412     |\n",
      "|    std                  | 0.991       |\n",
      "|    value_loss           | 0.00814     |\n",
      "-----------------------------------------\n"
     ]
    },
    {
     "data": {
      "text/plain": [
       "<stable_baselines3.ppo.ppo.PPO at 0x7fa0143ea310>"
      ]
     },
     "execution_count": 4,
     "metadata": {},
     "output_type": "execute_result"
    }
   ],
   "source": [
    "model.learn(total_timesteps=10000)"
   ]
  }
 ],
 "metadata": {
  "kernelspec": {
   "display_name": "jax",
   "language": "python",
   "name": "jax"
  },
  "language_info": {
   "codemirror_mode": {
    "name": "ipython",
    "version": 3
   },
   "file_extension": ".py",
   "mimetype": "text/x-python",
   "name": "python",
   "nbconvert_exporter": "python",
   "pygments_lexer": "ipython3",
   "version": "3.9.12"
  }
 },
 "nbformat": 4,
 "nbformat_minor": 5
}
